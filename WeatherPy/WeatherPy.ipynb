{
 "cells": [
  {
   "cell_type": "markdown",
   "metadata": {},
   "source": [
    "# WeatherPy\n",
    "----\n",
    "\n",
    "#### Note\n",
    "* Instructions have been included for each segment. You do not have to follow them exactly, but they are included to help you think through the steps."
   ]
  },
  {
   "cell_type": "code",
   "execution_count": 3,
   "metadata": {
    "scrolled": true
   },
   "outputs": [],
   "source": [
    "%matplotlib inline\n",
    "\n",
    "# Dependencies and Setup\n",
    "import matplotlib.pyplot as plt\n",
    "import pandas as pd\n",
    "import numpy as np\n",
    "import requests\n",
    "from scipy.stats import linregress\n",
    "import json\n",
    "\n",
    "# # Give your engine instance time to connect by implementing this delay:\n",
    "import time\n",
    "\n",
    "# Import API key\n",
    "from api_keys import owkey_2\n",
    "\n",
    "# Incorporated citipy to determine city based on latitude and longitude\n",
    "from citipy import citipy\n",
    "\n",
    "# Output File (CSV)\n",
    "output_data_file = \"output_data/cities.csv\"\n",
    "\n",
    "# Range of latitudes and longitudes\n",
    "lat_range = (-90, 90)\n",
    "lng_range = (-180, 180)"
   ]
  },
  {
   "cell_type": "markdown",
   "metadata": {},
   "source": [
    "## Generate Cities List"
   ]
  },
  {
   "cell_type": "code",
   "execution_count": 5,
   "metadata": {},
   "outputs": [],
   "source": [
    "# List for holding lat_lngs and cities\n",
    "lat_lngs = []\n",
    "cities = []\n",
    "\n",
    "# Create a set of random lat and lng combinations\n",
    "lats = np.random.uniform(lat_range[0], lat_range[1], size=1500)\n",
    "lngs = np.random.uniform(lng_range[0], lng_range[1], size=1500)\n",
    "lat_lngs = zip(lats, lngs)\n",
    "\n",
    "# Identify nearest city for each lat, lng combination\n",
    "for lat_lng in lat_lngs:\n",
    "    city = citipy.nearest_city(lat_lng[0], lat_lng[1]).city_name\n",
    "    \n",
    "    # If the city is unique, then add it to a our cities list\n",
    "    if city not in cities:\n",
    "        cities.append(city)"
   ]
  },
  {
   "cell_type": "code",
   "execution_count": 6,
   "metadata": {},
   "outputs": [
    {
     "data": {
      "text/plain": [
       "list"
      ]
     },
     "execution_count": 6,
     "metadata": {},
     "output_type": "execute_result"
    }
   ],
   "source": [
    "# Print the city count to confirm sufficient count\n",
    "type(cities)"
   ]
  },
  {
   "cell_type": "code",
   "execution_count": 7,
   "metadata": {},
   "outputs": [
    {
     "data": {
      "text/plain": [
       "612"
      ]
     },
     "execution_count": 7,
     "metadata": {},
     "output_type": "execute_result"
    }
   ],
   "source": [
    "len(cities)"
   ]
  },
  {
   "cell_type": "markdown",
   "metadata": {},
   "source": [
    "### Perform API Calls\n",
    "* Perform a weather check on each city using a series of successive API calls.\n",
    "* Include a print log of each city as it's being processed (with the city number and city name).\n"
   ]
  },
  {
   "cell_type": "code",
   "execution_count": 8,
   "metadata": {},
   "outputs": [],
   "source": [
    "target_city = 'london'\n",
    "units = \"imperial\"\n",
    "\n",
    "params = {\"q\":target_city,\n",
    "          \"appid\":owkey_2,\n",
    "          \"units\":units\n",
    "}\n",
    "\n",
    "base_url = \"http://api.openweathermap.org/data/2.5/weather\""
   ]
  },
  {
   "cell_type": "code",
   "execution_count": 9,
   "metadata": {},
   "outputs": [],
   "source": [
    "# # -----------------REF-----------------REF-----------------REF-----------------\n",
    "# # -----------------REF-----------------REF-----------------REF-----------------\n",
    "#Run the request \n",
    "# response = requests.get(base_url, params=params)\n",
    "\n",
    "# response.url\n",
    "\n",
    "# # Convert to json\n",
    "# city_data = response.json()\n",
    "\n",
    "# #Print the json\n",
    "# print(json.dumps(city_data, indent=4))\n",
    "\n",
    "# city_data.keys()\n",
    "\n",
    "# len(city_data)\n",
    "\n",
    "# # response['coord']\n",
    "# city_data['id']"
   ]
  },
  {
   "cell_type": "code",
   "execution_count": 9,
   "metadata": {},
   "outputs": [],
   "source": [
    "# # ----- TEST TEST TEST TEST TEST TEST TEST TEST TEST\n",
    "# # ------------SMALL LIST OF CITIES ---------- TESTING CODE---------- \n",
    "# # ------------------------------------------------------------\n",
    "# Small list of cities to test API request\n",
    "city_test = [\"chicago\", \"seoul\", \"paris\", \"rome\", \"peanutszilla\", 'new york', \"houston\", \"portland\"]\n",
    "city_df_test= []\n",
    "# city_df_test= {}"
   ]
  },
  {
   "cell_type": "code",
   "execution_count": 18,
   "metadata": {
    "tags": []
   },
   "outputs": [],
   "source": [
    "# # # --------------------TEST ---LIST WORKS WORKS WORKS WORKS ---------------------\n",
    "# x = 0\n",
    "# print(f'Print log of each city as its being processed with the city number and city name.')\n",
    "      \n",
    "# for city in city_test:\n",
    "#     response_1 = requests.get(base_url + \"?appid=\" + owkey_2 + \"&units=imperial&q=\"+ city)\n",
    "#     city_df_test.append(response_1.json())\n",
    "#     time.sleep(1.1)\n",
    "    \n",
    "#     try:\n",
    "#         print(f\"Processing record {x} for city query: {city}. City ID: {city_df_test[x]['id']}\")\n",
    "        \n",
    "#     except:\n",
    "#         print(f\"Processing record {x} for city query: {city}. NOT FOUND IN OPEN WEATHER CITY QUERY.\")\n",
    "    \n",
    "#     x = x+1"
   ]
  },
  {
   "cell_type": "code",
   "execution_count": 19,
   "metadata": {
    "tags": []
   },
   "outputs": [],
   "source": [
    "# # # ---------TEST TEST ------CONVERT LIST TO DATAFRAME---TEST TEST ---------------------\n",
    "# type(city_df_test)\n",
    "# city_df_test = pd.DataFrame(city_df_test)\n",
    "\n",
    "# city_df_test.head()"
   ]
  },
  {
   "cell_type": "code",
   "execution_count": 20,
   "metadata": {
    "tags": []
   },
   "outputs": [],
   "source": [
    "# # # ---------TEST TEST ------CONVERT LIST TO DATAFRAME---TEST TEST ---------------------\n",
    "# x = 0\n",
    "# print(f'Print log of each city as its being processed with the city number and city name.')\n",
    "      \n",
    "# for city in city_test:\n",
    "#     response_1 = requests.get(base_url + \"?appid=438009f9d4c66902b74677d9e0d5247d&q=\"+ city)\n",
    "#     df2 = response_1.json()\n",
    "#     city_df_test = city_df_test.append(df2, ignore_index = True)\n",
    "#     time.sleep(1.1)\n",
    "    \n",
    "#     try:\n",
    "#         print(f\"Processing record {x} for city query: {city}. City ID: {city_df_test.iloc[x,5]}\")\n",
    "        \n",
    "#     except:\n",
    "#         print(f\"Processing record {x} not found\")\n",
    "    \n",
    "#     x = x+1"
   ]
  },
  {
   "cell_type": "code",
   "execution_count": 23,
   "metadata": {
    "scrolled": true,
    "tags": []
   },
   "outputs": [],
   "source": [
    "# # city_df_test\n",
    "\n",
    "# len(city_df_test)\n",
    "\n",
    "# city_df_test"
   ]
  },
  {
   "cell_type": "code",
   "execution_count": 24,
   "metadata": {},
   "outputs": [],
   "source": [
    "# set up lists to hold reponse info\n",
    "city_df = []"
   ]
  },
  {
   "cell_type": "code",
   "execution_count": 25,
   "metadata": {
    "scrolled": true,
    "tags": []
   },
   "outputs": [
    {
     "name": "stdout",
     "output_type": "stream",
     "text": [
      "Print log of each city as its being processed with the city number and city name.\n",
      "Processing record 0 for city query: clyde river. City ID: 5924351\n",
      "Processing record 1 for city query: jamestown. City ID: 5122534\n",
      "Processing record 2 for city query: vaitupu. NOT FOUND IN OPEN WEATHER CITY QUERY.\n",
      "Processing record 3 for city query: mys shmidta. NOT FOUND IN OPEN WEATHER CITY QUERY.\n",
      "Processing record 4 for city query: naini tal. City ID: 1262117\n",
      "Processing record 5 for city query: hasaki. City ID: 2112802\n",
      "Processing record 6 for city query: chongwe. City ID: 917688\n",
      "Processing record 7 for city query: gus-zheleznyy. City ID: 557754\n",
      "Processing record 8 for city query: georgetown. City ID: 1735106\n",
      "Processing record 9 for city query: manadhoo. City ID: 1337618\n",
      "Processing record 10 for city query: fairbanks. City ID: 5861897\n",
      "Processing record 11 for city query: lazaro cardenas. City ID: 4026082\n",
      "Processing record 12 for city query: rikitea. City ID: 4030556\n",
      "Processing record 13 for city query: tuktoyaktuk. City ID: 6170031\n",
      "Processing record 14 for city query: norman wells. City ID: 6089245\n",
      "Processing record 15 for city query: albany. City ID: 5106841\n",
      "Processing record 16 for city query: grand-santi. City ID: 3381538\n",
      "Processing record 17 for city query: sehithwa. City ID: 933109\n",
      "Processing record 18 for city query: tasiilaq. City ID: 3424607\n",
      "Processing record 19 for city query: srednekolymsk. City ID: 2121025\n",
      "Processing record 20 for city query: saskylakh. City ID: 2017155\n",
      "Processing record 21 for city query: carberry. City ID: 5916706\n",
      "Processing record 22 for city query: marawi. City ID: 1701054\n",
      "Processing record 23 for city query: karratha. City ID: 6620339\n",
      "Processing record 24 for city query: hilo. City ID: 5855927\n",
      "Processing record 25 for city query: hobart. City ID: 2163355\n",
      "Processing record 26 for city query: ushuaia. City ID: 3833367\n",
      "Processing record 27 for city query: madang. City ID: 2091996\n",
      "Processing record 28 for city query: dorado. City ID: 4564133\n",
      "Processing record 29 for city query: talnakh. City ID: 1490256\n",
      "Processing record 30 for city query: namatanai. City ID: 2090021\n",
      "Processing record 31 for city query: kapaa. City ID: 5848280\n",
      "Processing record 32 for city query: sembe. City ID: 2255304\n",
      "Processing record 33 for city query: lebu. City ID: 3883457\n",
      "Processing record 34 for city query: longyearbyen. City ID: 2729907\n",
      "Processing record 35 for city query: deputatskiy. City ID: 2028164\n",
      "Processing record 36 for city query: mahebourg. City ID: 934322\n",
      "Processing record 37 for city query: khatanga. City ID: 2022572\n",
      "Processing record 38 for city query: qaanaaq. City ID: 3831208\n",
      "Processing record 39 for city query: bluff. City ID: 2206939\n",
      "Processing record 40 for city query: punta arenas. City ID: 3874787\n",
      "Processing record 41 for city query: eyl. City ID: 60019\n",
      "Processing record 42 for city query: aklavik. City ID: 5882953\n",
      "Processing record 43 for city query: bur gabo. NOT FOUND IN OPEN WEATHER CITY QUERY.\n",
      "Processing record 44 for city query: port alfred. City ID: 964432\n",
      "Processing record 45 for city query: vila franca do campo. City ID: 3372472\n",
      "Processing record 46 for city query: taolanaro. NOT FOUND IN OPEN WEATHER CITY QUERY.\n",
      "Processing record 47 for city query: alofi. City ID: 4036284\n",
      "Processing record 48 for city query: mount isa. City ID: 2065594\n",
      "Processing record 49 for city query: saint george. City ID: 5546220\n",
      "Processing record 50 for city query: saldanha. City ID: 3361934\n",
      "Processing record 51 for city query: toliary. NOT FOUND IN OPEN WEATHER CITY QUERY.\n",
      "Processing record 52 for city query: thompson. City ID: 6165406\n",
      "Processing record 53 for city query: marsa matruh. City ID: 352733\n",
      "Processing record 54 for city query: samusu. NOT FOUND IN OPEN WEATHER CITY QUERY.\n",
      "Processing record 55 for city query: hailar. City ID: 2037078\n",
      "Processing record 56 for city query: bengkulu. City ID: 1649150\n",
      "Processing record 57 for city query: carnarvon. City ID: 2074865\n",
      "Processing record 58 for city query: teluknaga. City ID: 1990589\n",
      "Processing record 59 for city query: solnechnyy. City ID: 2016307\n",
      "Processing record 60 for city query: busselton. City ID: 2075265\n",
      "Processing record 61 for city query: mataura. City ID: 6201424\n",
      "Processing record 62 for city query: laguna. City ID: 5364271\n",
      "Processing record 63 for city query: kruisfontein. City ID: 986717\n",
      "Processing record 64 for city query: kaeo. City ID: 2189343\n",
      "Processing record 65 for city query: novoagansk. City ID: 1497210\n",
      "Processing record 66 for city query: crib point. City ID: 2169995\n",
      "Processing record 67 for city query: vaini. City ID: 4032243\n",
      "Processing record 68 for city query: hermanus. City ID: 3366880\n",
      "Processing record 69 for city query: avarua. City ID: 4035715\n",
      "Processing record 70 for city query: yellowknife. City ID: 6185377\n",
      "Processing record 71 for city query: puerto colombia. City ID: 3671497\n",
      "Processing record 72 for city query: zeya. City ID: 2012593\n",
      "Processing record 73 for city query: sitka. City ID: 5557293\n",
      "Processing record 74 for city query: coxim. City ID: 3465228\n",
      "Processing record 75 for city query: meridian. City ID: 5600685\n",
      "Processing record 76 for city query: puerto ayora. City ID: 3652764\n",
      "Processing record 77 for city query: gold coast. City ID: 2165087\n",
      "Processing record 78 for city query: umzimvubu. NOT FOUND IN OPEN WEATHER CITY QUERY.\n",
      "Processing record 79 for city query: barentsburg. NOT FOUND IN OPEN WEATHER CITY QUERY.\n",
      "Processing record 80 for city query: airai. City ID: 1651810\n",
      "Processing record 81 for city query: nizhneyansk. NOT FOUND IN OPEN WEATHER CITY QUERY.\n",
      "Processing record 82 for city query: christchurch. City ID: 2192362\n",
      "Processing record 83 for city query: bethel. City ID: 5282297\n",
      "Processing record 84 for city query: mar del plata. City ID: 3430863\n",
      "Processing record 85 for city query: new norfolk. City ID: 2155415\n",
      "Processing record 86 for city query: iquique. City ID: 3887127\n",
      "Processing record 87 for city query: raga. City ID: 368246\n",
      "Processing record 88 for city query: padang. City ID: 1633419\n",
      "Processing record 89 for city query: qeshm. City ID: 119374\n",
      "Processing record 90 for city query: havre-saint-pierre. City ID: 5972291\n",
      "Processing record 91 for city query: balabac. City ID: 1728675\n",
      "Processing record 92 for city query: sorong. City ID: 1626542\n",
      "Processing record 93 for city query: kousseri. City ID: 2229798\n",
      "Processing record 94 for city query: port hawkesbury. City ID: 6111867\n",
      "Processing record 95 for city query: victoria. City ID: 1819729\n",
      "Processing record 96 for city query: yarada. City ID: 1252783\n",
      "Processing record 97 for city query: baykalsk. City ID: 2026979\n",
      "Processing record 98 for city query: dhidhdhoo. City ID: 1337612\n",
      "Processing record 99 for city query: aktau. City ID: 610612\n",
      "Processing record 100 for city query: plettenberg bay. City ID: 964712\n",
      "Processing record 101 for city query: paamiut. City ID: 3421193\n",
      "Processing record 102 for city query: araguaina. City ID: 3407357\n",
      "Processing record 103 for city query: nikolskoye. City ID: 546105\n",
      "Processing record 104 for city query: kiunga. City ID: 2093846\n",
      "Processing record 105 for city query: mayor pablo lagerenza. City ID: 3867427\n",
      "Processing record 106 for city query: torbay. City ID: 6167817\n",
      "Processing record 107 for city query: faya. City ID: 110690\n",
      "Processing record 108 for city query: strezhevoy. City ID: 1490796\n",
      "Processing record 109 for city query: tocopilla. City ID: 3869716\n",
      "Processing record 110 for city query: illoqqortoormiut. NOT FOUND IN OPEN WEATHER CITY QUERY.\n",
      "Processing record 111 for city query: cascais. City ID: 2269594\n",
      "Processing record 112 for city query: vostok. City ID: 2013279\n",
      "Processing record 113 for city query: ngukurr. NOT FOUND IN OPEN WEATHER CITY QUERY.\n",
      "Processing record 114 for city query: port elizabeth. City ID: 964420\n",
      "Processing record 115 for city query: ejido. City ID: 3644417\n",
      "Processing record 116 for city query: santa isabel do rio negro. City ID: 3662489\n",
      "Processing record 117 for city query: the valley. City ID: 3573374\n",
      "Processing record 118 for city query: rogun. NOT FOUND IN OPEN WEATHER CITY QUERY.\n",
      "Processing record 119 for city query: shingu. City ID: 1847947\n",
      "Processing record 120 for city query: pisco. City ID: 3932145\n",
      "Processing record 121 for city query: ivanteyevka. City ID: 555111\n",
      "Processing record 122 for city query: puerto morazan. City ID: 3617146\n",
      "Processing record 123 for city query: nipawin. City ID: 6088469\n",
      "Processing record 124 for city query: ust-kamchatsk. NOT FOUND IN OPEN WEATHER CITY QUERY.\n",
      "Processing record 125 for city query: iranshahr. City ID: 1160939\n",
      "Processing record 126 for city query: foso. City ID: 2300883\n",
      "Processing record 127 for city query: malakal. City ID: 370737\n",
      "Processing record 128 for city query: bredasdorp. City ID: 1015776\n",
      "Processing record 129 for city query: manyana. City ID: 933416\n",
      "Processing record 130 for city query: hithadhoo. City ID: 1282256\n",
      "Processing record 131 for city query: westport. City ID: 4845585\n",
      "Processing record 132 for city query: atuona. City ID: 4020109\n",
      "Processing record 133 for city query: barrow. City ID: 5880054\n",
      "Processing record 134 for city query: kieta. City ID: 2094027\n",
      "Processing record 135 for city query: kavieng. City ID: 2094342\n",
      "Processing record 136 for city query: riyadh. City ID: 108410\n",
      "Processing record 137 for city query: bogalusa. City ID: 4317412\n",
      "Processing record 138 for city query: bambous virieux. City ID: 1106677\n",
      "Processing record 139 for city query: ulladulla. City ID: 2145554\n",
      "Processing record 140 for city query: lalibela. City ID: 332288\n",
      "Processing record 141 for city query: souillac. City ID: 933995\n",
      "Processing record 142 for city query: kirakira. City ID: 2178753\n",
      "Processing record 143 for city query: lawrenceburg. City ID: 4297581\n",
      "Processing record 144 for city query: bousse. City ID: 2361845\n",
      "Processing record 145 for city query: mpika. City ID: 905846\n",
      "Processing record 146 for city query: al. NOT FOUND IN OPEN WEATHER CITY QUERY.\n",
      "Processing record 147 for city query: chumikan. City ID: 2025256\n",
      "Processing record 148 for city query: taksimo. City ID: 2015701\n",
      "Processing record 149 for city query: cherskiy. City ID: 2126199\n",
      "Processing record 150 for city query: lupsa. City ID: 674272\n",
      "Processing record 151 for city query: college. City ID: 5859699\n",
      "Processing record 152 for city query: saint-philippe. City ID: 935215\n",
      "Processing record 153 for city query: corowa. City ID: 2170260\n",
      "Processing record 154 for city query: presidencia roque saenz pena. City ID: 3840300\n",
      "Processing record 155 for city query: adiake. City ID: 2293428\n",
      "Processing record 156 for city query: leningradskiy. City ID: 2123814\n",
      "Processing record 157 for city query: hof. City ID: 2902768\n",
      "Processing record 158 for city query: bitung. City ID: 1648636\n",
      "Processing record 159 for city query: grindavik. City ID: 3416888\n",
      "Processing record 160 for city query: ilulissat. City ID: 3423146\n",
      "Processing record 161 for city query: yulara. City ID: 6355222\n",
      "Processing record 162 for city query: butaritari. City ID: 2110227\n",
      "Processing record 163 for city query: sao filipe. City ID: 3374210\n",
      "Processing record 164 for city query: zhigansk. City ID: 2012530\n",
      "Processing record 165 for city query: nantucket. City ID: 4944903\n",
      "Processing record 166 for city query: lincoln. City ID: 5072006\n",
      "Processing record 167 for city query: ak-dovurak. City ID: 1512064\n",
      "Processing record 168 for city query: upernavik. City ID: 3418910\n",
      "Processing record 169 for city query: serdobsk. City ID: 496934\n",
      "Processing record 170 for city query: gigmoto. City ID: 1712961\n",
      "Processing record 171 for city query: coquimbo. City ID: 3893629\n",
      "Processing record 172 for city query: ribeira grande. City ID: 3372707\n",
      "Processing record 173 for city query: provideniya. City ID: 4031574\n",
      "Processing record 174 for city query: quatre cocos. City ID: 1106643\n",
      "Processing record 175 for city query: bathsheba. City ID: 3374083\n",
      "Processing record 176 for city query: sentyabrskiy. NOT FOUND IN OPEN WEATHER CITY QUERY.\n",
      "Processing record 177 for city query: anzio. City ID: 6542092\n",
      "Processing record 178 for city query: kaitangata. City ID: 2208248\n",
      "Processing record 179 for city query: cabo san lucas. City ID: 3985710\n",
      "Processing record 180 for city query: mujiayingzi. City ID: 2035707\n",
      "Processing record 181 for city query: bayji. City ID: 97783\n",
      "Processing record 182 for city query: menongue. City ID: 3347353\n",
      "Processing record 183 for city query: kloulklubed. City ID: 7671223\n",
      "Processing record 184 for city query: miri. City ID: 1738050\n",
      "Processing record 185 for city query: lagoa. City ID: 3372964\n",
      "Processing record 186 for city query: staryy nadym. City ID: 1490918\n",
      "Processing record 187 for city query: youghal. City ID: 2960869\n",
      "Processing record 188 for city query: hervey bay. City ID: 2146219\n",
      "Processing record 189 for city query: nikolayevsk-na-amure. City ID: 2122850\n",
      "Processing record 190 for city query: tiksi. City ID: 2015306\n",
      "Processing record 191 for city query: pervomayskoye. City ID: 797213\n",
      "Processing record 192 for city query: mecca. City ID: 104515\n",
      "Processing record 193 for city query: lodja. City ID: 211647\n",
      "Processing record 194 for city query: teguise. City ID: 2510573\n",
      "Processing record 195 for city query: daxian. NOT FOUND IN OPEN WEATHER CITY QUERY.\n",
      "Processing record 196 for city query: belushya guba. NOT FOUND IN OPEN WEATHER CITY QUERY.\n",
      "Processing record 197 for city query: oktyabrskoye. City ID: 515805\n",
      "Processing record 198 for city query: shiyan. City ID: 1794903\n",
      "Processing record 199 for city query: lensk. City ID: 2020838\n",
      "Processing record 200 for city query: curup. City ID: 1645875\n",
      "Processing record 201 for city query: djibo. City ID: 2361177\n",
      "Processing record 202 for city query: ponta do sol. City ID: 2264557\n",
      "Processing record 203 for city query: bereda. City ID: 3105522\n",
      "Processing record 204 for city query: dimbokro. City ID: 2289983\n",
      "Processing record 205 for city query: amderma. NOT FOUND IN OPEN WEATHER CITY QUERY.\n",
      "Processing record 206 for city query: cape town. City ID: 3369157\n",
      "Processing record 207 for city query: rovaniemi. City ID: 638936\n",
      "Processing record 208 for city query: pittsfield. City ID: 4947459\n",
      "Processing record 209 for city query: berlevag. City ID: 780687\n",
      "Processing record 210 for city query: bakchar. City ID: 1511057\n",
      "Processing record 211 for city query: hamilton. City ID: 4513583\n",
      "Processing record 212 for city query: baringo. City ID: 200575\n",
      "Processing record 213 for city query: sisimiut. City ID: 3419842\n",
      "Processing record 214 for city query: alta floresta. City ID: 6316343\n",
      "Processing record 215 for city query: pokrovo-prigorodnoye. City ID: 507479\n",
      "Processing record 216 for city query: guerrero negro. City ID: 4021858\n",
      "Processing record 217 for city query: uruguaiana. City ID: 3445679\n",
      "Processing record 218 for city query: qurbus. City ID: 2467914\n",
      "Processing record 219 for city query: savannah bight. City ID: 3601402\n",
      "Processing record 220 for city query: ugoofaaru. City ID: 1337619\n",
      "Processing record 221 for city query: grand gaube. City ID: 934479\n",
      "Processing record 222 for city query: dharchula. City ID: 1272864\n",
      "Processing record 223 for city query: pekan. City ID: 1734971\n",
      "Processing record 224 for city query: east london. City ID: 1006984\n",
      "Processing record 225 for city query: phalaborwa. City ID: 965528\n",
      "Processing record 226 for city query: okhotsk. City ID: 2122605\n",
      "Processing record 227 for city query: los llanos de aridane. City ID: 2514651\n",
      "Processing record 228 for city query: klaksvik. City ID: 2618795\n",
      "Processing record 229 for city query: vega de alatorre. City ID: 3514843\n",
      "Processing record 230 for city query: nome. City ID: 5870133\n",
      "Processing record 231 for city query: fortuna. City ID: 5563839\n",
      "Processing record 232 for city query: hoima. City ID: 233312\n",
      "Processing record 233 for city query: katsuura. City ID: 2112309\n",
      "Processing record 234 for city query: portland. City ID: 5746545\n",
      "Processing record 235 for city query: lompoc. City ID: 5367788\n",
      "Processing record 236 for city query: komsomolskiy. City ID: 1513491\n",
      "Processing record 237 for city query: saint-georges. City ID: 3579925\n",
      "Processing record 238 for city query: kamina. City ID: 214614\n",
      "Processing record 239 for city query: hobyo. City ID: 57000\n",
      "Processing record 240 for city query: egvekinot. City ID: 4031742\n",
      "Processing record 241 for city query: yining. City ID: 1786538\n",
      "Processing record 242 for city query: codrington. City ID: 2171099\n",
      "Processing record 243 for city query: dunedin. City ID: 2191562\n",
      "Processing record 244 for city query: marcona. NOT FOUND IN OPEN WEATHER CITY QUERY.\n",
      "Processing record 245 for city query: mayya. City ID: 2020121\n",
      "Processing record 246 for city query: esperance. City ID: 2071860\n",
      "Processing record 247 for city query: nicoya. City ID: 3622716\n",
      "Processing record 248 for city query: ligayan. City ID: 1706466\n",
      "Processing record 249 for city query: hualmay. City ID: 3939761\n",
      "Processing record 250 for city query: cortez. City ID: 5418104\n",
      "Processing record 251 for city query: camacha. City ID: 2270385\n",
      "Processing record 252 for city query: nioro. City ID: 2412408\n",
      "Processing record 253 for city query: fukue. City ID: 1863997\n",
      "Processing record 254 for city query: northam. City ID: 2641434\n",
      "Processing record 255 for city query: mehamn. City ID: 778707\n",
      "Processing record 256 for city query: namwala. City ID: 901766\n",
      "Processing record 257 for city query: wulanhaote. NOT FOUND IN OPEN WEATHER CITY QUERY.\n",
      "Processing record 258 for city query: high level. City ID: 5975004\n",
      "Processing record 259 for city query: iqaluit. City ID: 5983720\n",
      "Processing record 260 for city query: shahr-e babak. City ID: 115781\n",
      "Processing record 261 for city query: ixtapa. City ID: 4004293\n",
      "Processing record 262 for city query: albania. City ID: 783754\n",
      "Processing record 263 for city query: san policarpo. City ID: 1688696\n",
      "Processing record 264 for city query: tevaitoa. City ID: 4033375\n",
      "Processing record 265 for city query: parintins. City ID: 3393008\n",
      "Processing record 266 for city query: severo-kurilsk. City ID: 2121385\n",
      "Processing record 267 for city query: paso de los toros. City ID: 3441273\n",
      "Processing record 268 for city query: muros. City ID: 3115824\n",
      "Processing record 269 for city query: half moon bay. City ID: 5354943\n",
      "Processing record 270 for city query: ipameri. City ID: 3461151\n",
      "Processing record 271 for city query: adrar. City ID: 2381972\n",
      "Processing record 272 for city query: kodiak. City ID: 5866583\n",
      "Processing record 273 for city query: bara. City ID: 2347758\n",
      "Processing record 274 for city query: castro. City ID: 3466704\n",
      "Processing record 275 for city query: teya. City ID: 1489656\n",
      "Processing record 276 for city query: mae sot. City ID: 1152188\n",
      "Processing record 277 for city query: khandyga. City ID: 2022773\n",
      "Processing record 278 for city query: cockburn town. City ID: 3576994\n",
      "Processing record 279 for city query: berkakit. City ID: 2026777\n",
      "Processing record 280 for city query: tianpeng. City ID: 1792916\n",
      "Processing record 281 for city query: sorvag. NOT FOUND IN OPEN WEATHER CITY QUERY.\n",
      "Processing record 282 for city query: sirnak. City ID: 300640\n",
      "Processing record 283 for city query: karaul. NOT FOUND IN OPEN WEATHER CITY QUERY.\n",
      "Processing record 284 for city query: ancud. City ID: 3899695\n",
      "Processing record 285 for city query: mnogovershinnyy. City ID: 2019935\n",
      "Processing record 286 for city query: chuy. City ID: 3443061\n",
      "Processing record 287 for city query: sabha. City ID: 2212775\n",
      "Processing record 288 for city query: lasa. City ID: 3175096\n",
      "Processing record 289 for city query: skrunda. City ID: 455520\n",
      "Processing record 290 for city query: igarka. City ID: 1505991\n",
      "Processing record 291 for city query: chokurdakh. City ID: 2126123\n",
      "Processing record 292 for city query: udachnyy. City ID: 2014624\n",
      "Processing record 293 for city query: sao jose da coroa grande. City ID: 3388456\n",
      "Processing record 294 for city query: tsihombe. NOT FOUND IN OPEN WEATHER CITY QUERY.\n",
      "Processing record 295 for city query: bar harbor. City ID: 4957320\n",
      "Processing record 296 for city query: attawapiskat. NOT FOUND IN OPEN WEATHER CITY QUERY.\n",
      "Processing record 297 for city query: tessalit. City ID: 2449893\n",
      "Processing record 298 for city query: sibu. City ID: 1735902\n",
      "Processing record 299 for city query: igrim. City ID: 1505965\n",
      "Processing record 300 for city query: ozernovskiy. City ID: 2122293\n",
      "Processing record 301 for city query: buala. City ID: 2109528\n",
      "Processing record 302 for city query: yate. City ID: 2633406\n",
      "Processing record 303 for city query: vieux fort. City ID: 3576414\n",
      "Processing record 304 for city query: kenora. City ID: 5991056\n",
      "Processing record 305 for city query: scarborough. City ID: 2638419\n",
      "Processing record 306 for city query: aykhal. City ID: 2027296\n",
      "Processing record 307 for city query: arraial do cabo. City ID: 3471451\n",
      "Processing record 308 for city query: malatya. City ID: 304919\n",
      "Processing record 309 for city query: snasa. City ID: 3138076\n",
      "Processing record 310 for city query: balkanabat. City ID: 161616\n",
      "Processing record 311 for city query: sangar. City ID: 2017215\n",
      "Processing record 312 for city query: povenets. City ID: 505820\n",
      "Processing record 313 for city query: sabang. City ID: 1214026\n",
      "Processing record 314 for city query: dikson. City ID: 1507390\n",
      "Processing record 315 for city query: vagur. City ID: 2610806\n",
      "Processing record 316 for city query: atambua. City ID: 1651103\n",
      "Processing record 317 for city query: luganville. City ID: 2136150\n",
      "Processing record 318 for city query: zlatoustovsk. NOT FOUND IN OPEN WEATHER CITY QUERY.\n",
      "Processing record 319 for city query: minab. City ID: 123941\n",
      "Processing record 320 for city query: cidreira. City ID: 3466165\n",
      "Processing record 321 for city query: pangnirtung. City ID: 6096551\n",
      "Processing record 322 for city query: betong. City ID: 1611635\n",
      "Processing record 323 for city query: salvador. City ID: 3585968\n",
      "Processing record 324 for city query: guaraniacu. City ID: 3461892\n",
      "Processing record 325 for city query: kampong chhnang. City ID: 1831166\n",
      "Processing record 326 for city query: jutai. City ID: 3663693\n",
      "Processing record 327 for city query: sao joao do piaui. City ID: 3388618\n",
      "Processing record 328 for city query: pacific grove. City ID: 5380437\n",
      "Processing record 329 for city query: barcelona. City ID: 3128760\n",
      "Processing record 330 for city query: jibuti. City ID: 223816\n",
      "Processing record 331 for city query: cayenne. City ID: 3382160\n",
      "Processing record 332 for city query: toktogul. City ID: 1538648\n",
      "Processing record 333 for city query: candolim. City ID: 1274989\n",
      "Processing record 334 for city query: luderitz. City ID: 3355672\n",
      "Processing record 335 for city query: sayyan. City ID: 70979\n",
      "Processing record 336 for city query: longlac. NOT FOUND IN OPEN WEATHER CITY QUERY.\n",
      "Processing record 337 for city query: innisfail. City ID: 2162683\n",
      "Processing record 338 for city query: manado. City ID: 1636544\n",
      "Processing record 339 for city query: bargal. NOT FOUND IN OPEN WEATHER CITY QUERY.\n",
      "Processing record 340 for city query: kodinsk. City ID: 1503037\n",
      "Processing record 341 for city query: dicabisagan. City ID: 1715015\n",
      "Processing record 342 for city query: abu samrah. City ID: 172515\n",
      "Processing record 343 for city query: katobu. City ID: 1640972\n",
      "Processing record 344 for city query: sao joao da barra. City ID: 3448903\n",
      "Processing record 345 for city query: bay roberts. City ID: 5895424\n",
      "Processing record 346 for city query: nichinan. City ID: 1855476\n",
      "Processing record 347 for city query: mitsamiouli. City ID: 921786\n",
      "Processing record 348 for city query: mulanje. City ID: 925789\n",
      "Processing record 349 for city query: faanui. City ID: 4034551\n",
      "Processing record 350 for city query: dwarka. City ID: 1272140\n",
      "Processing record 351 for city query: atar. City ID: 2381334\n",
      "Processing record 352 for city query: yenagoa. City ID: 2318123\n",
      "Processing record 353 for city query: karymskoye. City ID: 2023094\n",
      "Processing record 354 for city query: morros. City ID: 3394372\n",
      "Processing record 355 for city query: matay. City ID: 352628\n",
      "Processing record 356 for city query: pevek. City ID: 2122090\n",
      "Processing record 357 for city query: usinsk. City ID: 863061\n",
      "Processing record 358 for city query: port hardy. City ID: 6111862\n",
      "Processing record 359 for city query: haines junction. City ID: 5969025\n",
      "Processing record 360 for city query: agadez. City ID: 2448083\n",
      "Processing record 361 for city query: kapit. City ID: 1737185\n",
      "Processing record 362 for city query: hami. City ID: 1529484\n",
      "Processing record 363 for city query: vardo. City ID: 777019\n",
      "Processing record 364 for city query: yuzhno-yeniseyskiy. NOT FOUND IN OPEN WEATHER CITY QUERY.\n",
      "Processing record 365 for city query: hambantota. City ID: 1244926\n",
      "Processing record 366 for city query: vao. City ID: 2137773\n",
      "Processing record 367 for city query: luwuk. City ID: 1637001\n",
      "Processing record 368 for city query: nanortalik. City ID: 3421765\n",
      "Processing record 369 for city query: biala podlaska. City ID: 776175\n",
      "Processing record 370 for city query: kysyl-syr. City ID: 2021017\n",
      "Processing record 371 for city query: sivaki. City ID: 2016477\n",
      "Processing record 372 for city query: maymanak. NOT FOUND IN OPEN WEATHER CITY QUERY.\n",
      "Processing record 373 for city query: valle de allende. City ID: 3980627\n",
      "Processing record 374 for city query: ucluelet. City ID: 6171633\n",
      "Processing record 375 for city query: viligili. NOT FOUND IN OPEN WEATHER CITY QUERY.\n",
      "Processing record 376 for city query: poso. City ID: 1630723\n",
      "Processing record 377 for city query: salalah. City ID: 286621\n",
      "Processing record 378 for city query: flinders. City ID: 6255012\n",
      "Processing record 379 for city query: kathu. City ID: 1153035\n",
      "Processing record 380 for city query: pampas. City ID: 3933185\n",
      "Processing record 381 for city query: grenville. City ID: 3580236\n",
      "Processing record 382 for city query: palana. City ID: 2122262\n",
      "Processing record 383 for city query: mount gambier. City ID: 2156643\n",
      "Processing record 384 for city query: tura. City ID: 1254046\n",
      "Processing record 385 for city query: tongchuan. City ID: 1795196\n",
      "Processing record 386 for city query: belaya gora. City ID: 2126785\n",
      "Processing record 387 for city query: verkhoyansk. City ID: 2013465\n",
      "Processing record 388 for city query: mongo. City ID: 2427637\n",
      "Processing record 389 for city query: alvaraes. City ID: 3665380\n",
      "Processing record 390 for city query: kavaratti. City ID: 1267390\n",
      "Processing record 391 for city query: jalu. City ID: 86049\n",
      "Processing record 392 for city query: nsanje. City ID: 924572\n",
      "Processing record 393 for city query: camiri. City ID: 3922414\n",
      "Processing record 394 for city query: barcelos. City ID: 2742416\n",
      "Processing record 395 for city query: tuatapere. City ID: 2180815\n",
      "Processing record 396 for city query: kahului. City ID: 5847411\n",
      "Processing record 397 for city query: yambio. City ID: 363656\n",
      "Processing record 398 for city query: herat. City ID: 1140025\n",
      "Processing record 399 for city query: ballina. City ID: 2177069\n",
      "Processing record 400 for city query: marivan. City ID: 97572\n",
      "Processing record 401 for city query: moyale. City ID: 186180\n",
      "Processing record 402 for city query: touros. City ID: 3386213\n",
      "Processing record 403 for city query: nuuk. City ID: 3421319\n",
      "Processing record 404 for city query: monrovia. City ID: 2274895\n",
      "Processing record 405 for city query: ambodifototra. NOT FOUND IN OPEN WEATHER CITY QUERY.\n",
      "Processing record 406 for city query: kangaatsiaq. City ID: 3422683\n",
      "Processing record 407 for city query: ankara. City ID: 323786\n",
      "Processing record 408 for city query: manzhouli. City ID: 2035836\n",
      "Processing record 409 for city query: rio grande. City ID: 3451138\n",
      "Processing record 410 for city query: clearwater. City ID: 4151316\n",
      "Processing record 411 for city query: ilmajoki. City ID: 656739\n",
      "Processing record 412 for city query: santa marta. City ID: 3668605\n",
      "Processing record 413 for city query: avera. City ID: 4231997\n",
      "Processing record 414 for city query: pemba. City ID: 1028918\n",
      "Processing record 415 for city query: naze. City ID: 1855540\n",
      "Processing record 416 for city query: qandala. City ID: 53157\n",
      "Processing record 417 for city query: ambulu. City ID: 1621313\n",
      "Processing record 418 for city query: antalaha. City ID: 1071296\n",
      "Processing record 419 for city query: puerto del rosario. City ID: 2512186\n",
      "Processing record 420 for city query: chagda. NOT FOUND IN OPEN WEATHER CITY QUERY.\n",
      "Processing record 421 for city query: santa eulalia del rio. NOT FOUND IN OPEN WEATHER CITY QUERY.\n",
      "Processing record 422 for city query: calabozo. City ID: 3647444\n",
      "Processing record 423 for city query: meulaboh. City ID: 1214488\n",
      "Processing record 424 for city query: safford. City ID: 5312476\n",
      "Processing record 425 for city query: lodwar. City ID: 189280\n",
      "Processing record 426 for city query: oranjestad. City ID: 3577154\n",
      "Processing record 427 for city query: cermik. City ID: 318766\n",
      "Processing record 428 for city query: henties bay. City ID: 3356832\n",
      "Processing record 429 for city query: pangani. City ID: 150793\n",
      "Processing record 430 for city query: tumannyy. NOT FOUND IN OPEN WEATHER CITY QUERY.\n",
      "Processing record 431 for city query: ruatoria. NOT FOUND IN OPEN WEATHER CITY QUERY.\n",
      "Processing record 432 for city query: san patricio. City ID: 4726521\n",
      "Processing record 433 for city query: dingle. City ID: 1714733\n",
      "Processing record 434 for city query: jiddah. NOT FOUND IN OPEN WEATHER CITY QUERY.\n",
      "Processing record 435 for city query: sorland. City ID: 3137469\n",
      "Processing record 436 for city query: kayes. City ID: 2455517\n",
      "Processing record 437 for city query: quetigny. City ID: 2984775\n",
      "Processing record 438 for city query: sao caetano de odivelas. City ID: 3388926\n",
      "Processing record 439 for city query: calatayud. City ID: 3127047\n",
      "Processing record 440 for city query: bucerias. City ID: 4016734\n",
      "Processing record 441 for city query: urucara. City ID: 3385670\n",
      "Processing record 442 for city query: praia. City ID: 3374333\n",
      "Processing record 443 for city query: ust-maya. City ID: 2013918\n",
      "Processing record 444 for city query: keetmanshoop. City ID: 3356264\n",
      "Processing record 445 for city query: bud. City ID: 4255151\n",
      "Processing record 446 for city query: rorvik. City ID: 3141310\n",
      "Processing record 447 for city query: caravelas. City ID: 3466980\n",
      "Processing record 448 for city query: hobe sound. City ID: 4158758\n",
      "Processing record 449 for city query: tautira. City ID: 4033557\n",
      "Processing record 450 for city query: lanzhou. City ID: 1804430\n",
      "Processing record 451 for city query: geraldton. City ID: 2070998\n",
      "Processing record 452 for city query: rio cuarto. City ID: 3838874\n",
      "Processing record 453 for city query: ostrovnoy. City ID: 556268\n",
      "Processing record 454 for city query: hofn. City ID: 2630299\n",
      "Processing record 455 for city query: chake chake. City ID: 160677\n",
      "Processing record 456 for city query: sioux lookout. City ID: 6148373\n",
      "Processing record 457 for city query: sonoita. City ID: 3982837\n",
      "Processing record 458 for city query: baft. City ID: 390054\n",
      "Processing record 459 for city query: togur. City ID: 1489499\n",
      "Processing record 460 for city query: sarkand. City ID: 1519691\n",
      "Processing record 461 for city query: oksfjord. City ID: 778362\n",
      "Processing record 462 for city query: kushalgarh. City ID: 1265452\n",
      "Processing record 463 for city query: qujing. City ID: 1797318\n",
      "Processing record 464 for city query: babynino. City ID: 579838\n",
      "Processing record 465 for city query: wasilla. City ID: 5877641\n",
      "Processing record 466 for city query: la ronge. City ID: 6050066\n",
      "Processing record 467 for city query: mullaitivu. NOT FOUND IN OPEN WEATHER CITY QUERY.\n",
      "Processing record 468 for city query: kashi. City ID: 1280849\n",
      "Processing record 469 for city query: necochea. City ID: 3430443\n",
      "Processing record 470 for city query: vilyuysk. City ID: 2013392\n",
      "Processing record 471 for city query: bowen. City ID: 2174444\n",
      "Processing record 472 for city query: kasongo-lunda. City ID: 2315026\n",
      "Processing record 473 for city query: mayumba. City ID: 2399001\n",
      "Processing record 474 for city query: flin flon. City ID: 5954718\n",
      "Processing record 475 for city query: manggar. City ID: 1636426\n",
      "Processing record 476 for city query: bandarbeyla. City ID: 64814\n",
      "Processing record 477 for city query: rypefjord. City ID: 847634\n",
      "Processing record 478 for city query: nemuro. City ID: 2128975\n",
      "Processing record 479 for city query: asau. City ID: 686090\n",
      "Processing record 480 for city query: remich. City ID: 2960154\n",
      "Processing record 481 for city query: itoman. City ID: 1861280\n",
      "Processing record 482 for city query: neuquen. City ID: 3843123\n",
      "Processing record 483 for city query: leopold. City ID: 2160336\n",
      "Processing record 484 for city query: isangel. City ID: 2136825\n",
      "Processing record 485 for city query: teseney. City ID: 327651\n",
      "Processing record 486 for city query: naugarzan. NOT FOUND IN OPEN WEATHER CITY QUERY.\n",
      "Processing record 487 for city query: tiarei. City ID: 4033356\n",
      "Processing record 488 for city query: mayo. City ID: 4362001\n",
      "Processing record 489 for city query: san cristobal. City ID: 3628473\n",
      "Processing record 490 for city query: brooks. City ID: 5909514\n",
      "Processing record 491 for city query: moissac. City ID: 2993586\n",
      "Processing record 492 for city query: slantsy. City ID: 492162\n",
      "Processing record 493 for city query: gamba. City ID: 2400547\n",
      "Processing record 494 for city query: gat. City ID: 293842\n",
      "Processing record 495 for city query: atherton. City ID: 2656847\n",
      "Processing record 496 for city query: arlit. City ID: 2447513\n",
      "Processing record 497 for city query: jizan. City ID: 105298\n",
      "Processing record 498 for city query: devils lake. City ID: 5058868\n",
      "Processing record 499 for city query: newport. City ID: 2641598\n",
      "Processing record 500 for city query: palabuhanratu. NOT FOUND IN OPEN WEATHER CITY QUERY.\n",
      "Processing record 501 for city query: araouane. City ID: 2460954\n",
      "Processing record 502 for city query: taungdwingyi. City ID: 1294041\n",
      "Processing record 503 for city query: maragogi. City ID: 3395458\n",
      "Processing record 504 for city query: hokitika. City ID: 2206894\n",
      "Processing record 505 for city query: mariental. City ID: 3355595\n",
      "Processing record 506 for city query: te anau. City ID: 2181625\n",
      "Processing record 507 for city query: escanaba. City ID: 4992232\n",
      "Processing record 508 for city query: severobaykalsk. City ID: 2016910\n",
      "Processing record 509 for city query: beterou. City ID: 2395127\n",
      "Processing record 510 for city query: bilibino. City ID: 2126682\n",
      "Processing record 511 for city query: felidhoo. NOT FOUND IN OPEN WEATHER CITY QUERY.\n",
      "Processing record 512 for city query: semporna. City ID: 1733697\n",
      "Processing record 513 for city query: acarau. City ID: 3408368\n",
      "Processing record 514 for city query: meyungs. NOT FOUND IN OPEN WEATHER CITY QUERY.\n",
      "Processing record 515 for city query: alice town. City ID: 3572924\n",
      "Processing record 516 for city query: inderborskiy. NOT FOUND IN OPEN WEATHER CITY QUERY.\n",
      "Processing record 517 for city query: tidore. NOT FOUND IN OPEN WEATHER CITY QUERY.\n",
      "Processing record 518 for city query: impfondo. City ID: 2259655\n",
      "Processing record 519 for city query: roma. City ID: 5134295\n",
      "Processing record 520 for city query: comodoro rivadavia. City ID: 3860443\n",
      "Processing record 521 for city query: mbandaka. City ID: 2312895\n",
      "Processing record 522 for city query: sombrio. City ID: 3447409\n",
      "Processing record 523 for city query: hovd. City ID: 1516048\n",
      "Processing record 524 for city query: ayagoz. City ID: 1525988\n",
      "Processing record 525 for city query: nova olimpia. City ID: 3456137\n",
      "Processing record 526 for city query: lerwick. City ID: 2644605\n",
      "Processing record 527 for city query: lavrentiya. City ID: 4031637\n",
      "Processing record 528 for city query: narsaq. City ID: 3421719\n",
      "Processing record 529 for city query: kupang. City ID: 2057087\n",
      "Processing record 530 for city query: dolbeau. NOT FOUND IN OPEN WEATHER CITY QUERY.\n",
      "Processing record 531 for city query: kenai. City ID: 5866063\n",
      "Processing record 532 for city query: ahipara. City ID: 2194098\n",
      "Processing record 533 for city query: saint-joseph. City ID: 6690296\n",
      "Processing record 534 for city query: krasnaya gorka. City ID: 542769\n",
      "Processing record 535 for city query: oriximina. City ID: 3393471\n",
      "Processing record 536 for city query: saint marys. City ID: 4220629\n",
      "Processing record 537 for city query: vanavara. City ID: 2013727\n",
      "Processing record 538 for city query: arinos. City ID: 3471522\n",
      "Processing record 539 for city query: ahmadnagar. City ID: 1279228\n",
      "Processing record 540 for city query: kandalaksha. City ID: 553190\n",
      "Processing record 541 for city query: sur. City ID: 286245\n",
      "Processing record 542 for city query: thinadhoo. City ID: 1337610\n",
      "Processing record 543 for city query: rio do sul. City ID: 3451152\n",
      "Processing record 544 for city query: zyryanka. City ID: 2119283\n",
      "Processing record 545 for city query: mendi. City ID: 2090990\n",
      "Processing record 546 for city query: athabasca. City ID: 5887916\n",
      "Processing record 547 for city query: pentecoste. City ID: 3392345\n",
      "Processing record 548 for city query: miranda. City ID: 3674702\n",
      "Processing record 549 for city query: caucaia. City ID: 3402429\n",
      "Processing record 550 for city query: genhe. City ID: 2037252\n",
      "Processing record 551 for city query: hermiston. City ID: 5731070\n",
      "Processing record 552 for city query: san jose. City ID: 5392171\n",
      "Processing record 553 for city query: sistranda. City ID: 3139597\n",
      "Processing record 554 for city query: vestmannaeyjar. City ID: 3412093\n",
      "Processing record 555 for city query: da nang. City ID: 1583992\n",
      "Processing record 556 for city query: rawson. City ID: 3839307\n",
      "Processing record 557 for city query: dzaoudzi. City ID: 921900\n",
      "Processing record 558 for city query: paraiso. City ID: 3622547\n",
      "Processing record 559 for city query: svetlogorsk. City ID: 10722858\n",
      "Processing record 560 for city query: grand-lahou. City ID: 2288105\n",
      "Processing record 561 for city query: jurm. City ID: 1139085\n",
      "Processing record 562 for city query: batticaloa. City ID: 1250161\n",
      "Processing record 563 for city query: jos. City ID: 2335953\n",
      "Processing record 564 for city query: kigoma. City ID: 157738\n",
      "Processing record 565 for city query: kungurtug. City ID: 1501377\n",
      "Processing record 566 for city query: tecoanapa. City ID: 3516171\n",
      "Processing record 567 for city query: tygda. City ID: 2014743\n",
      "Processing record 568 for city query: hilpoltstein. City ID: 2904638\n",
      "Processing record 569 for city query: stoyba. NOT FOUND IN OPEN WEATHER CITY QUERY.\n",
      "Processing record 570 for city query: palauig. City ID: 1696188\n",
      "Processing record 571 for city query: jaciara. City ID: 3460355\n",
      "Processing record 572 for city query: sao felix do xingu. City ID: 3388847\n",
      "Processing record 573 for city query: whitehorse. City ID: 6180550\n",
      "Processing record 574 for city query: shakawe. City ID: 933077\n",
      "Processing record 575 for city query: hornepayne. City ID: 5977046\n",
      "Processing record 576 for city query: port augusta. City ID: 2063056\n",
      "Processing record 577 for city query: nagorsk. City ID: 523583\n",
      "Processing record 578 for city query: beringovskiy. City ID: 2126710\n",
      "Processing record 579 for city query: tupik. City ID: 2014836\n",
      "Processing record 580 for city query: ikungi. City ID: 159267\n",
      "Processing record 581 for city query: husavik. City ID: 2629833\n",
      "Processing record 582 for city query: port angeles. City ID: 5807212\n",
      "Processing record 583 for city query: palmer. City ID: 4946620\n",
      "Processing record 584 for city query: san quintin. City ID: 3984997\n",
      "Processing record 585 for city query: tondano. City ID: 1623424\n",
      "Processing record 586 for city query: punta de bombon. City ID: 3931255\n",
      "Processing record 587 for city query: arua. City ID: 235039\n",
      "Processing record 588 for city query: pochutla. City ID: 3517970\n",
      "Processing record 589 for city query: nhulunbuy. City ID: 2064735\n",
      "Processing record 590 for city query: nouakchott. City ID: 2377450\n",
      "Processing record 591 for city query: merauke. City ID: 2082539\n",
      "Processing record 592 for city query: constitucion. City ID: 3893726\n",
      "Processing record 593 for city query: huron. City ID: 5158275\n",
      "Processing record 594 for city query: shaowu. City ID: 1795857\n",
      "Processing record 595 for city query: walvis bay. City ID: 3359638\n",
      "Processing record 596 for city query: ardistan. NOT FOUND IN OPEN WEATHER CITY QUERY.\n",
      "Processing record 597 for city query: grand river south east. NOT FOUND IN OPEN WEATHER CITY QUERY.\n",
      "Processing record 598 for city query: charcas. City ID: 4014501\n",
      "Processing record 599 for city query: denpasar. City ID: 1645528\n",
      "Processing record 600 for city query: constantine. City ID: 2501152\n",
      "Processing record 601 for city query: kununurra. City ID: 2068110\n",
      "Processing record 602 for city query: alice springs. City ID: 2077895\n",
      "Processing record 603 for city query: xining. City ID: 1788852\n",
      "Processing record 604 for city query: natal. City ID: 3394023\n",
      "Processing record 605 for city query: pahrump. City ID: 5509851\n",
      "Processing record 606 for city query: skibbereen. City ID: 2961459\n",
      "Processing record 607 for city query: gimbi. City ID: 336496\n",
      "Processing record 608 for city query: tomatlan. City ID: 3981391\n",
      "Processing record 609 for city query: kutum. City ID: 371745\n",
      "Processing record 610 for city query: price. City ID: 5545269\n",
      "Processing record 611 for city query: mao. City ID: 2514301\n"
     ]
    }
   ],
   "source": [
    "x = 0\n",
    "print(f'Print log of each city as its being processed with the city number and city name.')\n",
    "      \n",
    "for city in cities:\n",
    "    response_1 = requests.get(base_url + \"?appid=\" + owkey_2 + \"&units=imperial&q=\"+ city)\n",
    "    city_df.append(response_1.json())\n",
    "    time.sleep(1.1)\n",
    "    \n",
    "    try:\n",
    "        print(f\"Processing record {x} for city query: {city}. City ID: {city_df[x]['id']}\")\n",
    "        \n",
    "    except:\n",
    "        print(f\"Processing record {x} for city query: {city}. NOT FOUND IN OPEN WEATHER CITY QUERY.\")\n",
    "    \n",
    "    x = x+1"
   ]
  },
  {
   "cell_type": "code",
   "execution_count": 63,
   "metadata": {},
   "outputs": [],
   "source": [
    "# city_df[0]['id']\n",
    "\n",
    "# http://api.openweathermap.org/data/2.5/weather?q=london&appid=438009f9d4c66902b74677d9e0d5247d\n",
    "\n",
    "# type(city_df)"
   ]
  },
  {
   "cell_type": "code",
   "execution_count": 165,
   "metadata": {
    "tags": []
   },
   "outputs": [],
   "source": [
    "# # --------REF--------REF--------REF--------REF--------\n",
    "# # create cities dataframe and export to csv\n",
    "# city_df = pd.DataFrame(city_df)\n",
    "# cities_df.to_csv(r\"output_data/cities.csv\")\n",
    "# cities_df"
   ]
  },
  {
   "cell_type": "markdown",
   "metadata": {},
   "source": [
    "### Convert Raw Data to DataFrame\n",
    "* Export the city data into a .csv.\n",
    "* Display the DataFrame"
   ]
  },
  {
   "cell_type": "code",
   "execution_count": 213,
   "metadata": {},
   "outputs": [],
   "source": [
    "# set up lists to hold reponse info\n",
    "weat_df ={}\n",
    "weat_df = pd.DataFrame(weat_df)"
   ]
  },
  {
   "cell_type": "code",
   "execution_count": 214,
   "metadata": {
    "tags": []
   },
   "outputs": [
    {
     "data": {
      "text/html": [
       "<div>\n",
       "<style scoped>\n",
       "    .dataframe tbody tr th:only-of-type {\n",
       "        vertical-align: middle;\n",
       "    }\n",
       "\n",
       "    .dataframe tbody tr th {\n",
       "        vertical-align: top;\n",
       "    }\n",
       "\n",
       "    .dataframe thead th {\n",
       "        text-align: right;\n",
       "    }\n",
       "</style>\n",
       "<table border=\"1\" class=\"dataframe\">\n",
       "  <thead>\n",
       "    <tr style=\"text-align: right;\">\n",
       "      <th></th>\n",
       "      <th>City</th>\n",
       "      <th>Longitude</th>\n",
       "      <th>Latitude</th>\n",
       "      <th>MaxTemp</th>\n",
       "      <th>Humidity</th>\n",
       "      <th>Cloudiness</th>\n",
       "      <th>WindSpeed</th>\n",
       "      <th>Country</th>\n",
       "      <th>Date</th>\n",
       "      <th>CityID</th>\n",
       "    </tr>\n",
       "  </thead>\n",
       "  <tbody>\n",
       "  </tbody>\n",
       "</table>\n",
       "</div>"
      ],
      "text/plain": [
       "Empty DataFrame\n",
       "Columns: [City, Longitude, Latitude, MaxTemp, Humidity, Cloudiness, WindSpeed, Country, Date, CityID]\n",
       "Index: []"
      ]
     },
     "execution_count": 214,
     "metadata": {},
     "output_type": "execute_result"
    }
   ],
   "source": [
    "weat_df['City'] = \"\"\n",
    "weat_df['Longitude'] = \"\"\n",
    "weat_df['Latitude']= \"\"\n",
    "weat_df['MaxTemp'] = \"\"\n",
    "weat_df['Humidity'] = \"\"\n",
    "weat_df['Cloudiness'] = \"\"\n",
    "weat_df['WindSpeed'] = \"\"\n",
    "weat_df['Country'] = \"\"\n",
    "weat_df['Date'] = \"\"\n",
    "weat_df['CityID'] = \"\"\n",
    "\n",
    "weat_df.head()"
   ]
  },
  {
   "cell_type": "code",
   "execution_count": 215,
   "metadata": {},
   "outputs": [],
   "source": [
    "# Convert list into a dataframe to so that index can be shared to create weather datafrme\n",
    "city_df2 = pd.DataFrame(city_df)"
   ]
  },
  {
   "cell_type": "code",
   "execution_count": 216,
   "metadata": {},
   "outputs": [],
   "source": [
    "#Use new city data frame to propertly index weather dataframe\n",
    "weat_df = pd.DataFrame(index=city_df2.index)"
   ]
  },
  {
   "cell_type": "code",
   "execution_count": 217,
   "metadata": {},
   "outputs": [],
   "source": [
    "for index, row in weat_df.iterrows():\n",
    "    try:\n",
    "        weat_df.loc[index, 'City'] = city_df[index]['name']\n",
    "        weat_df.loc[index, 'Longitude'] = city_df[index][\"coord\"][\"lon\"]\n",
    "        weat_df.loc[index, 'Latitude']= city_df[index][\"coord\"][\"lat\"]\n",
    "        weat_df.loc[index, 'MaxTemp'] = city_df[index]['main']['temp_max']\n",
    "        weat_df.loc[index, 'Humidity'] = city_df[index]['main']['humidity']\n",
    "        weat_df.loc[index, 'Cloudiness'] = city_df[index]['clouds'][\"all\"]\n",
    "        weat_df.loc[index, 'WindSpeed'] = city_df[index]['wind']['speed']\n",
    "        weat_df.loc[index, 'Country'] = city_df[index]['sys']['country']\n",
    "        weat_df.loc[index, 'Date'] = city_df[index]['dt']\n",
    "        weat_df.loc[index, 'CityID'] = city_df[index]['id']\n",
    "\n",
    "    except:\n",
    "        weat_df.loc[index, 'City'] = 'NaN'"
   ]
  },
  {
   "cell_type": "code",
   "execution_count": 218,
   "metadata": {},
   "outputs": [
    {
     "data": {
      "text/plain": [
       "612"
      ]
     },
     "execution_count": 218,
     "metadata": {},
     "output_type": "execute_result"
    }
   ],
   "source": [
    "len(weat_df)"
   ]
  },
  {
   "cell_type": "code",
   "execution_count": 219,
   "metadata": {},
   "outputs": [],
   "source": [
    "#Drop NaN rows that are not identified by OpenWeather\n",
    "weat_df = weat_df.dropna(axis = 0, how ='any')"
   ]
  },
  {
   "cell_type": "code",
   "execution_count": 249,
   "metadata": {},
   "outputs": [
    {
     "data": {
      "text/plain": [
       "565"
      ]
     },
     "execution_count": 249,
     "metadata": {},
     "output_type": "execute_result"
    }
   ],
   "source": [
    "len(weat_df)"
   ]
  },
  {
   "cell_type": "code",
   "execution_count": 221,
   "metadata": {},
   "outputs": [],
   "source": [
    "weat_df.reset_index(inplace = True)"
   ]
  },
  {
   "cell_type": "code",
   "execution_count": 64,
   "metadata": {},
   "outputs": [
    {
     "data": {
      "text/html": [
       "<div>\n",
       "<style scoped>\n",
       "    .dataframe tbody tr th:only-of-type {\n",
       "        vertical-align: middle;\n",
       "    }\n",
       "\n",
       "    .dataframe tbody tr th {\n",
       "        vertical-align: top;\n",
       "    }\n",
       "\n",
       "    .dataframe thead th {\n",
       "        text-align: right;\n",
       "    }\n",
       "</style>\n",
       "<table border=\"1\" class=\"dataframe\">\n",
       "  <thead>\n",
       "    <tr style=\"text-align: right;\">\n",
       "      <th></th>\n",
       "      <th>index</th>\n",
       "      <th>City</th>\n",
       "      <th>Longitude</th>\n",
       "      <th>Latitude</th>\n",
       "      <th>MaxTemp</th>\n",
       "      <th>Humidity</th>\n",
       "      <th>Cloudiness</th>\n",
       "      <th>WindSpeed</th>\n",
       "      <th>Country</th>\n",
       "      <th>Date</th>\n",
       "      <th>CityID</th>\n",
       "    </tr>\n",
       "  </thead>\n",
       "  <tbody>\n",
       "    <tr>\n",
       "      <th>0</th>\n",
       "      <td>0</td>\n",
       "      <td>Clyde River</td>\n",
       "      <td>-68.5914</td>\n",
       "      <td>70.4692</td>\n",
       "      <td>-3.77</td>\n",
       "      <td>84.0</td>\n",
       "      <td>100.0</td>\n",
       "      <td>16.11</td>\n",
       "      <td>CA</td>\n",
       "      <td>1.638131e+09</td>\n",
       "      <td>5924351.0</td>\n",
       "    </tr>\n",
       "    <tr>\n",
       "      <th>1</th>\n",
       "      <td>1</td>\n",
       "      <td>Jamestown</td>\n",
       "      <td>-79.2353</td>\n",
       "      <td>42.0970</td>\n",
       "      <td>36.72</td>\n",
       "      <td>100.0</td>\n",
       "      <td>90.0</td>\n",
       "      <td>9.22</td>\n",
       "      <td>US</td>\n",
       "      <td>1.638131e+09</td>\n",
       "      <td>5122534.0</td>\n",
       "    </tr>\n",
       "    <tr>\n",
       "      <th>2</th>\n",
       "      <td>4</td>\n",
       "      <td>Nainital</td>\n",
       "      <td>79.4469</td>\n",
       "      <td>29.3974</td>\n",
       "      <td>39.52</td>\n",
       "      <td>65.0</td>\n",
       "      <td>0.0</td>\n",
       "      <td>4.14</td>\n",
       "      <td>IN</td>\n",
       "      <td>1.638131e+09</td>\n",
       "      <td>1262117.0</td>\n",
       "    </tr>\n",
       "    <tr>\n",
       "      <th>3</th>\n",
       "      <td>5</td>\n",
       "      <td>Hasaki</td>\n",
       "      <td>140.8333</td>\n",
       "      <td>35.7333</td>\n",
       "      <td>34.20</td>\n",
       "      <td>48.0</td>\n",
       "      <td>2.0</td>\n",
       "      <td>0.89</td>\n",
       "      <td>JP</td>\n",
       "      <td>1.638131e+09</td>\n",
       "      <td>2112802.0</td>\n",
       "    </tr>\n",
       "    <tr>\n",
       "      <th>4</th>\n",
       "      <td>6</td>\n",
       "      <td>Chongwe</td>\n",
       "      <td>28.6820</td>\n",
       "      <td>-15.3292</td>\n",
       "      <td>66.88</td>\n",
       "      <td>49.0</td>\n",
       "      <td>3.0</td>\n",
       "      <td>4.29</td>\n",
       "      <td>ZM</td>\n",
       "      <td>1.638131e+09</td>\n",
       "      <td>917688.0</td>\n",
       "    </tr>\n",
       "    <tr>\n",
       "      <th>5</th>\n",
       "      <td>7</td>\n",
       "      <td>Gus-Zheleznyy</td>\n",
       "      <td>41.1656</td>\n",
       "      <td>55.0581</td>\n",
       "      <td>31.46</td>\n",
       "      <td>99.0</td>\n",
       "      <td>100.0</td>\n",
       "      <td>5.06</td>\n",
       "      <td>RU</td>\n",
       "      <td>1.638131e+09</td>\n",
       "      <td>557754.0</td>\n",
       "    </tr>\n",
       "    <tr>\n",
       "      <th>6</th>\n",
       "      <td>8</td>\n",
       "      <td>George Town</td>\n",
       "      <td>100.3354</td>\n",
       "      <td>5.4112</td>\n",
       "      <td>76.95</td>\n",
       "      <td>88.0</td>\n",
       "      <td>20.0</td>\n",
       "      <td>0.00</td>\n",
       "      <td>MY</td>\n",
       "      <td>1.638131e+09</td>\n",
       "      <td>1735106.0</td>\n",
       "    </tr>\n",
       "    <tr>\n",
       "      <th>7</th>\n",
       "      <td>9</td>\n",
       "      <td>Manadhoo</td>\n",
       "      <td>73.3833</td>\n",
       "      <td>5.7667</td>\n",
       "      <td>80.55</td>\n",
       "      <td>78.0</td>\n",
       "      <td>97.0</td>\n",
       "      <td>12.75</td>\n",
       "      <td>MV</td>\n",
       "      <td>1.638131e+09</td>\n",
       "      <td>1337618.0</td>\n",
       "    </tr>\n",
       "    <tr>\n",
       "      <th>8</th>\n",
       "      <td>10</td>\n",
       "      <td>Fairbanks</td>\n",
       "      <td>-147.7164</td>\n",
       "      <td>64.8378</td>\n",
       "      <td>-27.44</td>\n",
       "      <td>75.0</td>\n",
       "      <td>1.0</td>\n",
       "      <td>0.00</td>\n",
       "      <td>US</td>\n",
       "      <td>1.638131e+09</td>\n",
       "      <td>5861897.0</td>\n",
       "    </tr>\n",
       "    <tr>\n",
       "      <th>9</th>\n",
       "      <td>11</td>\n",
       "      <td>Lázaro Cárdenas</td>\n",
       "      <td>-102.2000</td>\n",
       "      <td>17.9583</td>\n",
       "      <td>84.63</td>\n",
       "      <td>55.0</td>\n",
       "      <td>4.0</td>\n",
       "      <td>10.00</td>\n",
       "      <td>MX</td>\n",
       "      <td>1.638131e+09</td>\n",
       "      <td>4026082.0</td>\n",
       "    </tr>\n",
       "  </tbody>\n",
       "</table>\n",
       "</div>"
      ],
      "text/plain": [
       "   index             City  Longitude  Latitude  MaxTemp  Humidity  Cloudiness  \\\n",
       "0      0      Clyde River   -68.5914   70.4692    -3.77      84.0       100.0   \n",
       "1      1        Jamestown   -79.2353   42.0970    36.72     100.0        90.0   \n",
       "2      4         Nainital    79.4469   29.3974    39.52      65.0         0.0   \n",
       "3      5           Hasaki   140.8333   35.7333    34.20      48.0         2.0   \n",
       "4      6          Chongwe    28.6820  -15.3292    66.88      49.0         3.0   \n",
       "5      7    Gus-Zheleznyy    41.1656   55.0581    31.46      99.0       100.0   \n",
       "6      8      George Town   100.3354    5.4112    76.95      88.0        20.0   \n",
       "7      9         Manadhoo    73.3833    5.7667    80.55      78.0        97.0   \n",
       "8     10        Fairbanks  -147.7164   64.8378   -27.44      75.0         1.0   \n",
       "9     11  Lázaro Cárdenas  -102.2000   17.9583    84.63      55.0         4.0   \n",
       "\n",
       "   WindSpeed Country          Date     CityID  \n",
       "0      16.11      CA  1.638131e+09  5924351.0  \n",
       "1       9.22      US  1.638131e+09  5122534.0  \n",
       "2       4.14      IN  1.638131e+09  1262117.0  \n",
       "3       0.89      JP  1.638131e+09  2112802.0  \n",
       "4       4.29      ZM  1.638131e+09   917688.0  \n",
       "5       5.06      RU  1.638131e+09   557754.0  \n",
       "6       0.00      MY  1.638131e+09  1735106.0  \n",
       "7      12.75      MV  1.638131e+09  1337618.0  \n",
       "8       0.00      US  1.638131e+09  5861897.0  \n",
       "9      10.00      MX  1.638131e+09  4026082.0  "
      ]
     },
     "execution_count": 64,
     "metadata": {},
     "output_type": "execute_result"
    }
   ],
   "source": [
    "weat_df.head(10)"
   ]
  },
  {
   "cell_type": "code",
   "execution_count": 228,
   "metadata": {},
   "outputs": [
    {
     "data": {
      "text/html": [
       "<div>\n",
       "<style scoped>\n",
       "    .dataframe tbody tr th:only-of-type {\n",
       "        vertical-align: middle;\n",
       "    }\n",
       "\n",
       "    .dataframe tbody tr th {\n",
       "        vertical-align: top;\n",
       "    }\n",
       "\n",
       "    .dataframe thead th {\n",
       "        text-align: right;\n",
       "    }\n",
       "</style>\n",
       "<table border=\"1\" class=\"dataframe\">\n",
       "  <thead>\n",
       "    <tr style=\"text-align: right;\">\n",
       "      <th></th>\n",
       "      <th>index</th>\n",
       "      <th>Longitude</th>\n",
       "      <th>Latitude</th>\n",
       "      <th>MaxTemp</th>\n",
       "      <th>Humidity</th>\n",
       "      <th>Cloudiness</th>\n",
       "      <th>WindSpeed</th>\n",
       "      <th>Date</th>\n",
       "      <th>CityID</th>\n",
       "    </tr>\n",
       "  </thead>\n",
       "  <tbody>\n",
       "    <tr>\n",
       "      <th>count</th>\n",
       "      <td>565.000000</td>\n",
       "      <td>565.000000</td>\n",
       "      <td>565.000000</td>\n",
       "      <td>565.000000</td>\n",
       "      <td>565.000000</td>\n",
       "      <td>565.000000</td>\n",
       "      <td>565.000000</td>\n",
       "      <td>5.650000e+02</td>\n",
       "      <td>5.650000e+02</td>\n",
       "    </tr>\n",
       "    <tr>\n",
       "      <th>mean</th>\n",
       "      <td>306.270796</td>\n",
       "      <td>18.428403</td>\n",
       "      <td>20.055705</td>\n",
       "      <td>53.041221</td>\n",
       "      <td>73.192920</td>\n",
       "      <td>61.300885</td>\n",
       "      <td>7.614850</td>\n",
       "      <td>1.638132e+09</td>\n",
       "      <td>2.673272e+06</td>\n",
       "    </tr>\n",
       "    <tr>\n",
       "      <th>std</th>\n",
       "      <td>176.717667</td>\n",
       "      <td>90.620690</td>\n",
       "      <td>33.121918</td>\n",
       "      <td>29.659540</td>\n",
       "      <td>20.818618</td>\n",
       "      <td>38.622304</td>\n",
       "      <td>5.558447</td>\n",
       "      <td>2.596439e+02</td>\n",
       "      <td>1.668296e+06</td>\n",
       "    </tr>\n",
       "    <tr>\n",
       "      <th>min</th>\n",
       "      <td>0.000000</td>\n",
       "      <td>-179.166700</td>\n",
       "      <td>-54.800000</td>\n",
       "      <td>-39.030000</td>\n",
       "      <td>5.000000</td>\n",
       "      <td>0.000000</td>\n",
       "      <td>0.000000</td>\n",
       "      <td>1.638131e+09</td>\n",
       "      <td>5.315700e+04</td>\n",
       "    </tr>\n",
       "    <tr>\n",
       "      <th>25%</th>\n",
       "      <td>155.000000</td>\n",
       "      <td>-59.516700</td>\n",
       "      <td>-5.795000</td>\n",
       "      <td>35.170000</td>\n",
       "      <td>63.000000</td>\n",
       "      <td>20.000000</td>\n",
       "      <td>3.440000</td>\n",
       "      <td>1.638132e+09</td>\n",
       "      <td>1.529484e+06</td>\n",
       "    </tr>\n",
       "    <tr>\n",
       "      <th>50%</th>\n",
       "      <td>306.000000</td>\n",
       "      <td>23.116500</td>\n",
       "      <td>20.502200</td>\n",
       "      <td>63.550000</td>\n",
       "      <td>77.000000</td>\n",
       "      <td>75.000000</td>\n",
       "      <td>6.530000</td>\n",
       "      <td>1.638132e+09</td>\n",
       "      <td>2.206894e+06</td>\n",
       "    </tr>\n",
       "    <tr>\n",
       "      <th>75%</th>\n",
       "      <td>459.000000</td>\n",
       "      <td>102.279700</td>\n",
       "      <td>49.600000</td>\n",
       "      <td>76.420000</td>\n",
       "      <td>89.000000</td>\n",
       "      <td>99.000000</td>\n",
       "      <td>10.490000</td>\n",
       "      <td>1.638132e+09</td>\n",
       "      <td>3.585968e+06</td>\n",
       "    </tr>\n",
       "    <tr>\n",
       "      <th>max</th>\n",
       "      <td>611.000000</td>\n",
       "      <td>179.316700</td>\n",
       "      <td>78.218600</td>\n",
       "      <td>93.780000</td>\n",
       "      <td>100.000000</td>\n",
       "      <td>100.000000</td>\n",
       "      <td>36.820000</td>\n",
       "      <td>1.638132e+09</td>\n",
       "      <td>1.072286e+07</td>\n",
       "    </tr>\n",
       "  </tbody>\n",
       "</table>\n",
       "</div>"
      ],
      "text/plain": [
       "            index   Longitude    Latitude     MaxTemp    Humidity  Cloudiness  \\\n",
       "count  565.000000  565.000000  565.000000  565.000000  565.000000  565.000000   \n",
       "mean   306.270796   18.428403   20.055705   53.041221   73.192920   61.300885   \n",
       "std    176.717667   90.620690   33.121918   29.659540   20.818618   38.622304   \n",
       "min      0.000000 -179.166700  -54.800000  -39.030000    5.000000    0.000000   \n",
       "25%    155.000000  -59.516700   -5.795000   35.170000   63.000000   20.000000   \n",
       "50%    306.000000   23.116500   20.502200   63.550000   77.000000   75.000000   \n",
       "75%    459.000000  102.279700   49.600000   76.420000   89.000000   99.000000   \n",
       "max    611.000000  179.316700   78.218600   93.780000  100.000000  100.000000   \n",
       "\n",
       "        WindSpeed          Date        CityID  \n",
       "count  565.000000  5.650000e+02  5.650000e+02  \n",
       "mean     7.614850  1.638132e+09  2.673272e+06  \n",
       "std      5.558447  2.596439e+02  1.668296e+06  \n",
       "min      0.000000  1.638131e+09  5.315700e+04  \n",
       "25%      3.440000  1.638132e+09  1.529484e+06  \n",
       "50%      6.530000  1.638132e+09  2.206894e+06  \n",
       "75%     10.490000  1.638132e+09  3.585968e+06  \n",
       "max     36.820000  1.638132e+09  1.072286e+07  "
      ]
     },
     "execution_count": 228,
     "metadata": {},
     "output_type": "execute_result"
    }
   ],
   "source": [
    "weat_df.describe()"
   ]
  },
  {
   "cell_type": "code",
   "execution_count": 252,
   "metadata": {},
   "outputs": [],
   "source": [
    "# Export dataframe to CSV\n",
    "weat_df.to_csv(r\"output_data/cities.csv\")"
   ]
  },
  {
   "cell_type": "code",
   "execution_count": 9,
   "metadata": {},
   "outputs": [],
   "source": [
    "#CSV file upload\n",
    "weat_df_path = \"output_data/cities.csv\"\n",
    "weat_df = pd.read_csv(weat_df_path)"
   ]
  },
  {
   "cell_type": "code",
   "execution_count": 12,
   "metadata": {},
   "outputs": [],
   "source": [
    "#Remove column added from CSV upload\n",
    "labels=\"Unnamed: 0\"\n",
    "weat_df.drop(columns = labels, inplace=True)"
   ]
  },
  {
   "cell_type": "code",
   "execution_count": 13,
   "metadata": {},
   "outputs": [
    {
     "data": {
      "text/html": [
       "<div>\n",
       "<style scoped>\n",
       "    .dataframe tbody tr th:only-of-type {\n",
       "        vertical-align: middle;\n",
       "    }\n",
       "\n",
       "    .dataframe tbody tr th {\n",
       "        vertical-align: top;\n",
       "    }\n",
       "\n",
       "    .dataframe thead th {\n",
       "        text-align: right;\n",
       "    }\n",
       "</style>\n",
       "<table border=\"1\" class=\"dataframe\">\n",
       "  <thead>\n",
       "    <tr style=\"text-align: right;\">\n",
       "      <th></th>\n",
       "      <th>index</th>\n",
       "      <th>City</th>\n",
       "      <th>Longitude</th>\n",
       "      <th>Latitude</th>\n",
       "      <th>MaxTemp</th>\n",
       "      <th>Humidity</th>\n",
       "      <th>Cloudiness</th>\n",
       "      <th>WindSpeed</th>\n",
       "      <th>Country</th>\n",
       "      <th>Date</th>\n",
       "      <th>CityID</th>\n",
       "    </tr>\n",
       "  </thead>\n",
       "  <tbody>\n",
       "    <tr>\n",
       "      <th>0</th>\n",
       "      <td>0</td>\n",
       "      <td>Clyde River</td>\n",
       "      <td>-68.5914</td>\n",
       "      <td>70.4692</td>\n",
       "      <td>-3.77</td>\n",
       "      <td>84.0</td>\n",
       "      <td>100.0</td>\n",
       "      <td>16.11</td>\n",
       "      <td>CA</td>\n",
       "      <td>1.638131e+09</td>\n",
       "      <td>5924351.0</td>\n",
       "    </tr>\n",
       "    <tr>\n",
       "      <th>1</th>\n",
       "      <td>1</td>\n",
       "      <td>Jamestown</td>\n",
       "      <td>-79.2353</td>\n",
       "      <td>42.0970</td>\n",
       "      <td>36.72</td>\n",
       "      <td>100.0</td>\n",
       "      <td>90.0</td>\n",
       "      <td>9.22</td>\n",
       "      <td>US</td>\n",
       "      <td>1.638131e+09</td>\n",
       "      <td>5122534.0</td>\n",
       "    </tr>\n",
       "    <tr>\n",
       "      <th>2</th>\n",
       "      <td>4</td>\n",
       "      <td>Nainital</td>\n",
       "      <td>79.4469</td>\n",
       "      <td>29.3974</td>\n",
       "      <td>39.52</td>\n",
       "      <td>65.0</td>\n",
       "      <td>0.0</td>\n",
       "      <td>4.14</td>\n",
       "      <td>IN</td>\n",
       "      <td>1.638131e+09</td>\n",
       "      <td>1262117.0</td>\n",
       "    </tr>\n",
       "    <tr>\n",
       "      <th>3</th>\n",
       "      <td>5</td>\n",
       "      <td>Hasaki</td>\n",
       "      <td>140.8333</td>\n",
       "      <td>35.7333</td>\n",
       "      <td>34.20</td>\n",
       "      <td>48.0</td>\n",
       "      <td>2.0</td>\n",
       "      <td>0.89</td>\n",
       "      <td>JP</td>\n",
       "      <td>1.638131e+09</td>\n",
       "      <td>2112802.0</td>\n",
       "    </tr>\n",
       "    <tr>\n",
       "      <th>4</th>\n",
       "      <td>6</td>\n",
       "      <td>Chongwe</td>\n",
       "      <td>28.6820</td>\n",
       "      <td>-15.3292</td>\n",
       "      <td>66.88</td>\n",
       "      <td>49.0</td>\n",
       "      <td>3.0</td>\n",
       "      <td>4.29</td>\n",
       "      <td>ZM</td>\n",
       "      <td>1.638131e+09</td>\n",
       "      <td>917688.0</td>\n",
       "    </tr>\n",
       "  </tbody>\n",
       "</table>\n",
       "</div>"
      ],
      "text/plain": [
       "   index         City  Longitude  Latitude  MaxTemp  Humidity  Cloudiness  \\\n",
       "0      0  Clyde River   -68.5914   70.4692    -3.77      84.0       100.0   \n",
       "1      1    Jamestown   -79.2353   42.0970    36.72     100.0        90.0   \n",
       "2      4     Nainital    79.4469   29.3974    39.52      65.0         0.0   \n",
       "3      5       Hasaki   140.8333   35.7333    34.20      48.0         2.0   \n",
       "4      6      Chongwe    28.6820  -15.3292    66.88      49.0         3.0   \n",
       "\n",
       "   WindSpeed Country          Date     CityID  \n",
       "0      16.11      CA  1.638131e+09  5924351.0  \n",
       "1       9.22      US  1.638131e+09  5122534.0  \n",
       "2       4.14      IN  1.638131e+09  1262117.0  \n",
       "3       0.89      JP  1.638131e+09  2112802.0  \n",
       "4       4.29      ZM  1.638131e+09   917688.0  "
      ]
     },
     "execution_count": 13,
     "metadata": {},
     "output_type": "execute_result"
    }
   ],
   "source": [
    "weat_df.head()"
   ]
  },
  {
   "cell_type": "markdown",
   "metadata": {},
   "source": [
    "## Inspect the data and remove the cities where the humidity > 100%.\n",
    "----\n",
    "Skip this step if there are no cities that have humidity > 100%. "
   ]
  },
  {
   "cell_type": "code",
   "execution_count": 14,
   "metadata": {},
   "outputs": [],
   "source": [
    "weat_df_100h = weat_df[weat_df['Humidity'] > 100]"
   ]
  },
  {
   "cell_type": "code",
   "execution_count": 15,
   "metadata": {},
   "outputs": [
    {
     "data": {
      "text/plain": [
       "(0, 11)"
      ]
     },
     "execution_count": 15,
     "metadata": {},
     "output_type": "execute_result"
    }
   ],
   "source": [
    "# There are ZERO cities wher the humidity > 100%\n",
    "weat_df_100h.shape"
   ]
  },
  {
   "cell_type": "code",
   "execution_count": 250,
   "metadata": {},
   "outputs": [],
   "source": [
    "#  Get the indices of cities that have humidity over 100%."
   ]
  },
  {
   "cell_type": "code",
   "execution_count": 251,
   "metadata": {},
   "outputs": [],
   "source": [
    "# Make a new DataFrame equal to the city data to drop all humidity outliers by index.\n",
    "# Passing \"inplace=False\" will make a copy of the city_data DataFrame, which we call \"clean_city_data\".\n"
   ]
  },
  {
   "cell_type": "markdown",
   "metadata": {},
   "source": [
    "## Plotting the Data\n",
    "* Use proper labeling of the plots using plot titles (including date of analysis) and axes labels.\n",
    "* Save the plotted figures as .pngs."
   ]
  },
  {
   "cell_type": "markdown",
   "metadata": {},
   "source": [
    "## Latitude vs. Temperature Plot\n",
    "The scatter plot shows that in late November temperature generally drops as you move further north of the equator."
   ]
  },
  {
   "cell_type": "code",
   "execution_count": 42,
   "metadata": {},
   "outputs": [],
   "source": [
    "xval = weat_df.iloc[:,3]\n",
    "yval = weat_df.iloc[:,4]"
   ]
  },
  {
   "cell_type": "code",
   "execution_count": 45,
   "metadata": {},
   "outputs": [
    {
     "data": {
      "image/png": "[encoded data removed]",
      "text/plain": [
       "<Figure size 432x288 with 1 Axes>"
      ]
     },
     "metadata": {
      "needs_background": "light"
     },
     "output_type": "display_data"
    }
   ],
   "source": [
    "(slope, intercept, rvalue, pvalue, stderr) = linregress(xval, yval)\n",
    "regress_values = weat_df.iloc[:,3] * slope + intercept\n",
    "line_eq = \"y = \" + str(round(slope,2)) + \"x + \" + str(round(intercept,2))\n",
    "\n",
    "plt.scatter(weat_df.iloc[:,3],weat_df.iloc[:,4])\n",
    "# plt.plot(xval,regress_values,\"r-\")\n",
    "# plt.annotate(line_eq,(-50,-25),fontsize=15,color=\"red\")\n",
    "plt.title(\"City Latitude vs Max Temp (11/28/21)\")\n",
    "plt.xlabel('City Latitude')\n",
    "plt.ylabel('Max Temp (F)')\n",
    "plt.savefig('output_data/lat_temp.png')\n",
    "plt.show()"
   ]
  },
  {
   "cell_type": "code",
   "execution_count": null,
   "metadata": {},
   "outputs": [],
   "source": []
  },
  {
   "cell_type": "markdown",
   "metadata": {},
   "source": [
    "## Latitude vs. Humidity Plot\n",
    "The scatter plot shows there is no relationship between latitude and humidity, but does show humidity usually over 60% across the cities in late November."
   ]
  },
  {
   "cell_type": "code",
   "execution_count": 46,
   "metadata": {},
   "outputs": [
    {
     "data": {
      "image/png": "[encoded data removed]",
      "text/plain": [
       "<Figure size 432x288 with 1 Axes>"
      ]
     },
     "metadata": {
      "needs_background": "light"
     },
     "output_type": "display_data"
    }
   ],
   "source": [
    "plt.scatter(weat_df.iloc[:,3],weat_df.iloc[:,5])\n",
    "plt.title(\"City Latitude vs Humidity (11/28/21)\")\n",
    "plt.xlabel('City Latitude')\n",
    "plt.ylabel('Humidity (%)')\n",
    "plt.savefig('output_data/lat_humd.png')\n",
    "plt.show()"
   ]
  },
  {
   "cell_type": "markdown",
   "metadata": {},
   "source": [
    "## Latitude vs. Cloudiness Plot\n",
    "Scatter plot shows there is no correlation between cloudiness and latitude for city selection in late November."
   ]
  },
  {
   "cell_type": "code",
   "execution_count": 47,
   "metadata": {},
   "outputs": [
    {
     "data": {
      "image/png": "[encoded data removed]",
      "text/plain": [
       "<Figure size 432x288 with 1 Axes>"
      ]
     },
     "metadata": {
      "needs_background": "light"
     },
     "output_type": "display_data"
    }
   ],
   "source": [
    "plt.scatter(weat_df.iloc[:,3],weat_df.iloc[:,6])\n",
    "plt.title(\"City Latitude vs Cloudiness (11/28/21)\")\n",
    "plt.xlabel('City Latitude')\n",
    "plt.ylabel('Cloudiness (%)')\n",
    "plt.savefig('output_data/lat_cloud.png')\n",
    "plt.show()"
   ]
  },
  {
   "cell_type": "markdown",
   "metadata": {},
   "source": [
    "## Latitude vs. Wind Speed Plot\n",
    "Scatter plot shows that wind speed in late November globally is generally less than 15 MPH.  There is no correlation between windiness and latitude for city selection in late November."
   ]
  },
  {
   "cell_type": "code",
   "execution_count": 48,
   "metadata": {},
   "outputs": [
    {
     "data": {
      "image/png": "[encoded data removed]",
      "text/plain": [
       "<Figure size 432x288 with 1 Axes>"
      ]
     },
     "metadata": {
      "needs_background": "light"
     },
     "output_type": "display_data"
    }
   ],
   "source": [
    "plt.scatter(weat_df.iloc[:,3],weat_df.iloc[:,7])\n",
    "plt.title(\"City Latitude vs Wind Speed (11/28/21)\")\n",
    "plt.xlabel('City Latitude')\n",
    "plt.ylabel('Wind Speed (mph)')\n",
    "plt.savefig('output_data/lat_wind.png')\n",
    "plt.show()"
   ]
  },
  {
   "cell_type": "markdown",
   "metadata": {},
   "source": [
    "## Linear Regression"
   ]
  },
  {
   "cell_type": "markdown",
   "metadata": {},
   "source": [
    "####  Northern Hemisphere - Max Temp vs. Latitude Linear Regression\n",
    "Linear regression shows a strong correlation between latitude and maximum temperature.  Temperatures decrease as city latitude moves away from the equator.  Northern hemisphere correlation is stronger with greater temperature increases than the southern hemisphere."
   ]
  },
  {
   "cell_type": "code",
   "execution_count": 16,
   "metadata": {},
   "outputs": [],
   "source": [
    "n_lat = weat_df[weat_df['Latitude'] >= 0]"
   ]
  },
  {
   "cell_type": "code",
   "execution_count": 17,
   "metadata": {},
   "outputs": [
    {
     "data": {
      "text/plain": [
       "(392, 11)"
      ]
     },
     "execution_count": 17,
     "metadata": {},
     "output_type": "execute_result"
    }
   ],
   "source": [
    "n_lat.shape"
   ]
  },
  {
   "cell_type": "code",
   "execution_count": 49,
   "metadata": {},
   "outputs": [
    {
     "data": {
      "image/png": "[encoded data removed]",
      "text/plain": [
       "<Figure size 432x288 with 1 Axes>"
      ]
     },
     "metadata": {
      "needs_background": "light"
     },
     "output_type": "display_data"
    },
    {
     "name": "stdout",
     "output_type": "stream",
     "text": [
      " The r-value is -0.8832657411103468\n"
     ]
    }
   ],
   "source": [
    "(slope, intercept, rvalue, pvalue, stderr) = linregress(n_lat.iloc[:,3],n_lat.iloc[:,4])\n",
    "regress_values = n_lat.iloc[:,3] * slope + intercept\n",
    "line_eq = \"y = \" + str(round(slope,2)) + \"x + \" + str(round(intercept,2))\n",
    "\n",
    "plt.scatter(n_lat.iloc[:,3],n_lat.iloc[:,4])\n",
    "plt.plot(n_lat.iloc[:,3],regress_values,\"r-\")\n",
    "plt.annotate(line_eq,(0,-15),fontsize=15,color=\"red\")\n",
    "plt.title(\"City Latitude (Northern Hemisphere) vs Max Temp (11/28/21)\")\n",
    "plt.xlabel('City Latitude')\n",
    "plt.ylabel('Max Temp (F)')\n",
    "plt.savefig('output_data/n_lat_temp.png')\n",
    "plt.show()\n",
    "print(f' The r-value is {rvalue}')"
   ]
  },
  {
   "cell_type": "code",
   "execution_count": null,
   "metadata": {},
   "outputs": [],
   "source": []
  },
  {
   "cell_type": "markdown",
   "metadata": {},
   "source": [
    "####  Southern Hemisphere - Max Temp vs. Latitude Linear Regression\n",
    "Linear regression shows a strong correlation between latitude and maximum temperature.  Temperatures decrease as city latitude moves away from the equator.  Northern hemisphere correlation is stronger with greater temperature increases than the southern hemisphere."
   ]
  },
  {
   "cell_type": "code",
   "execution_count": 19,
   "metadata": {},
   "outputs": [],
   "source": [
    "s_lat = weat_df[weat_df['Latitude'] < 0]"
   ]
  },
  {
   "cell_type": "code",
   "execution_count": 20,
   "metadata": {
    "tags": []
   },
   "outputs": [
    {
     "data": {
      "text/plain": [
       "(173, 11)"
      ]
     },
     "execution_count": 20,
     "metadata": {},
     "output_type": "execute_result"
    }
   ],
   "source": [
    "s_lat.shape"
   ]
  },
  {
   "cell_type": "code",
   "execution_count": 65,
   "metadata": {},
   "outputs": [
    {
     "data": {
      "image/png": "[encoded data removed]",
      "text/plain": [
       "<Figure size 432x288 with 1 Axes>"
      ]
     },
     "metadata": {
      "needs_background": "light"
     },
     "output_type": "display_data"
    },
    {
     "name": "stdout",
     "output_type": "stream",
     "text": [
      " The r-value is 0.680236658218379\n"
     ]
    }
   ],
   "source": [
    "(slope, intercept, rvalue, pvalue, stderr) = linregress(s_lat.iloc[:,3],s_lat.iloc[:,4])\n",
    "regress_values = s_lat.iloc[:,3] * slope + intercept\n",
    "line_eq = \"y = \" + str(round(slope,2)) + \"x + \" + str(round(intercept,2))\n",
    "\n",
    "plt.scatter(s_lat.iloc[:,3],s_lat.iloc[:,4])\n",
    "plt.plot(s_lat.iloc[:,3],regress_values,\"r-\")\n",
    "plt.annotate(line_eq,(-30,50),fontsize=15,color=\"red\")\n",
    "plt.title(\"City Latitude (Southern Hemisphere) vs Max Temp (11/28/21)\")\n",
    "plt.xlabel('City Latitude')\n",
    "plt.ylabel('Max Temp (F)')\n",
    "plt.savefig('output_data/s_lat_temp.png')\n",
    "plt.show()\n",
    "print(f' The r-value is {rvalue}')"
   ]
  },
  {
   "cell_type": "markdown",
   "metadata": {},
   "source": [
    "####  Northern Hemisphere - Humidity (%) vs. Latitude Linear Regression\n",
    "Humidity in late November was over 60% globally.  Linear regression some correlation in increasing humidity as a city' latitude increases.  Interesing, although correlation is not strong, the linear regression for cities in the southern hemisphere see decreasing humidity as a city's latitude decreases."
   ]
  },
  {
   "cell_type": "code",
   "execution_count": 51,
   "metadata": {},
   "outputs": [
    {
     "data": {
      "image/png": "[encoded data removed]",
      "text/plain": [
       "<Figure size 432x288 with 1 Axes>"
      ]
     },
     "metadata": {
      "needs_background": "light"
     },
     "output_type": "display_data"
    },
    {
     "name": "stdout",
     "output_type": "stream",
     "text": [
      " The r-value is 0.3691980331414356\n"
     ]
    }
   ],
   "source": [
    "(slope, intercept, rvalue, pvalue, stderr) = linregress(n_lat.iloc[:,3],n_lat.iloc[:,5])\n",
    "regress_values = n_lat.iloc[:,3] * slope + intercept\n",
    "line_eq = \"y = \" + str(round(slope,2)) + \"x + \" + str(round(intercept,2))\n",
    "\n",
    "plt.scatter(n_lat.iloc[:,3],n_lat.iloc[:,5])\n",
    "plt.plot(n_lat.iloc[:,3],regress_values,\"r-\")\n",
    "plt.annotate(line_eq,(45,20),fontsize=15,color=\"red\")\n",
    "plt.title(\"City Latitude (Northern Hemisphere) vs Humidity (11/28/21)\")\n",
    "plt.xlabel('City Latitude')\n",
    "plt.ylabel('Humidity (%)')\n",
    "plt.savefig('output_data/n_lat_humd.png')\n",
    "plt.show()\n",
    "print(f' The r-value is {rvalue}')"
   ]
  },
  {
   "cell_type": "markdown",
   "metadata": {},
   "source": [
    "####  Southern Hemisphere - Humidity (%) vs. Latitude Linear Regression\n",
    "Humidity in late November was over 60% globally.  Linear regression some correlation in increasing humidity as a city' latitude increases.  Interesing, although correlation is not strong, the linear regression for cities in the southern hemisphere see decreasing humidity as a city's latitude decreases."
   ]
  },
  {
   "cell_type": "code",
   "execution_count": 52,
   "metadata": {},
   "outputs": [
    {
     "data": {
      "image/png": "[encoded data removed]",
      "text/plain": [
       "<Figure size 432x288 with 1 Axes>"
      ]
     },
     "metadata": {
      "needs_background": "light"
     },
     "output_type": "display_data"
    },
    {
     "name": "stdout",
     "output_type": "stream",
     "text": [
      " The r-value is 0.3081087831605713\n"
     ]
    }
   ],
   "source": [
    "(slope, intercept, rvalue, pvalue, stderr) = linregress(s_lat.iloc[:,3],s_lat.iloc[:,5])\n",
    "regress_values = s_lat.iloc[:,3] * slope + intercept\n",
    "line_eq = \"y = \" + str(round(slope,2)) + \"x + \" + str(round(intercept,2))\n",
    "\n",
    "plt.scatter(s_lat.iloc[:,3],s_lat.iloc[:,5])\n",
    "plt.plot(s_lat.iloc[:,3],regress_values,\"r-\")\n",
    "plt.annotate(line_eq,(-25,20),fontsize=15,color=\"red\")\n",
    "plt.title(\"City Latitude (Southern Hemisphere) vs Humidity (11/28/21)\")\n",
    "plt.xlabel('City Latitude')\n",
    "plt.ylabel('Humidity (%)')\n",
    "plt.savefig('output_data/s_lat_humd.png')\n",
    "plt.show()\n",
    "print(f' The r-value is {rvalue}')"
   ]
  },
  {
   "cell_type": "markdown",
   "metadata": {},
   "source": [
    "####  Northern Hemisphere - Cloudiness (%) vs. Latitude Linear Regression\n",
    "Linear regression for cloudiness and humidity are similar.  Although not highly correlated to latitude, this does suggest there is a relationship  related between humidity and cloudiness."
   ]
  },
  {
   "cell_type": "code",
   "execution_count": 53,
   "metadata": {},
   "outputs": [
    {
     "data": {
      "image/png": "[encoded data removed]",
      "text/plain": [
       "<Figure size 432x288 with 1 Axes>"
      ]
     },
     "metadata": {
      "needs_background": "light"
     },
     "output_type": "display_data"
    },
    {
     "name": "stdout",
     "output_type": "stream",
     "text": [
      " The r-value is 0.19852034528612245\n"
     ]
    }
   ],
   "source": [
    "(slope, intercept, rvalue, pvalue, stderr) = linregress(n_lat.iloc[:,3],n_lat.iloc[:,6])\n",
    "regress_values = n_lat.iloc[:,3] * slope + intercept\n",
    "line_eq = \"y = \" + str(round(slope,2)) + \"x + \" + str(round(intercept,2))\n",
    "\n",
    "plt.scatter(n_lat.iloc[:,3],n_lat.iloc[:,6])\n",
    "plt.plot(n_lat.iloc[:,3],regress_values,\"r-\")\n",
    "plt.annotate(line_eq,(45,55),fontsize=15,color=\"red\")\n",
    "plt.title(\"City Latitude (Northern Hemisphere) vs Cloudiness (11/28/21)\")\n",
    "plt.xlabel('City Latitude')\n",
    "plt.ylabel('Cloudiness (%)')\n",
    "plt.savefig('output_data/n_lat_cloud.png')\n",
    "plt.show()\n",
    "print(f' The r-value is {rvalue}')"
   ]
  },
  {
   "cell_type": "markdown",
   "metadata": {},
   "source": [
    "####  Southern Hemisphere - Cloudiness (%) vs. Latitude Linear Regression\n",
    "Linear regression for cloudiness and humidity are similar.  Although not highly correlated to latitude, this does suggest there is a relationship  related between humidity and cloudiness."
   ]
  },
  {
   "cell_type": "code",
   "execution_count": 54,
   "metadata": {},
   "outputs": [
    {
     "data": {
      "image/png": "[encoded data removed]",
      "text/plain": [
       "<Figure size 432x288 with 1 Axes>"
      ]
     },
     "metadata": {
      "needs_background": "light"
     },
     "output_type": "display_data"
    },
    {
     "name": "stdout",
     "output_type": "stream",
     "text": [
      " The r-value is 0.2532572434044452\n"
     ]
    }
   ],
   "source": [
    "(slope, intercept, rvalue, pvalue, stderr) = linregress(s_lat.iloc[:,3],s_lat.iloc[:,6])\n",
    "regress_values = s_lat.iloc[:,3] * slope + intercept\n",
    "line_eq = \"y = \" + str(round(slope,2)) + \"x + \" + str(round(intercept,2))\n",
    "\n",
    "plt.scatter(s_lat.iloc[:,3],s_lat.iloc[:,6])\n",
    "plt.plot(s_lat.iloc[:,3],regress_values,\"r-\")\n",
    "plt.annotate(line_eq,(-55,10),fontsize=15,color=\"red\")\n",
    "plt.title(\"City Latitude (Southern Hemisphere) vs Cloudiness (11/28/21)\")\n",
    "plt.xlabel('City Latitude')\n",
    "plt.ylabel('Cloudiness (%)')\n",
    "plt.savefig('output_data/s_lat_cloud.png')\n",
    "plt.show()\n",
    "print(f' The r-value is {rvalue}')"
   ]
  },
  {
   "cell_type": "markdown",
   "metadata": {},
   "source": [
    "####  Northern Hemisphere - Wind Speed (mph) vs. Latitude Linear Regression\n",
    "Wind Speed and latitude do not appear to have a relationship other then wind speed hs been generally calm globally in across city latitudes and generally under 8 MPH in the northern hemisphere.  The southern hemisphere cities show more variance and linear regression suggest increasing wind speed as cities move away from the equator."
   ]
  },
  {
   "cell_type": "code",
   "execution_count": 55,
   "metadata": {},
   "outputs": [
    {
     "data": {
      "image/png": "[encoded data removed]",
      "text/plain": [
       "<Figure size 432x288 with 1 Axes>"
      ]
     },
     "metadata": {
      "needs_background": "light"
     },
     "output_type": "display_data"
    },
    {
     "name": "stdout",
     "output_type": "stream",
     "text": [
      " The r-value is 0.03144268007508223\n"
     ]
    }
   ],
   "source": [
    "(slope, intercept, rvalue, pvalue, stderr) = linregress(n_lat.iloc[:,3],n_lat.iloc[:,7])\n",
    "regress_values = n_lat.iloc[:,3] * slope + intercept\n",
    "line_eq = \"y = \" + str(round(slope,2)) + \"x + \" + str(round(intercept,2))\n",
    "\n",
    "plt.scatter(n_lat.iloc[:,3],n_lat.iloc[:,7])\n",
    "plt.plot(n_lat.iloc[:,3],regress_values,\"r-\")\n",
    "plt.annotate(line_eq,(0,30),fontsize=15,color=\"red\")\n",
    "plt.title(\"City Latitude (Northern Hemisphere) vs Wind Speed (11/28/21)\")\n",
    "plt.xlabel('City Latitude')\n",
    "plt.ylabel('Wind Speed (mph)')\n",
    "plt.savefig('output_data/n_lat_wind.png')\n",
    "plt.show()\n",
    "print(f' The r-value is {rvalue}')"
   ]
  },
  {
   "cell_type": "markdown",
   "metadata": {},
   "source": [
    "####  Southern Hemisphere - Wind Speed (mph) vs. Latitude Linear Regression\n",
    "Wind Speed and latitude do not appear to have a relationship other then wind speed hs been generally calm globally in across city latitudes and generally under 8 MPH in the northern hemisphere.  The southern hemisphere cities show more variance and linear regression suggest increasing wind speed as cities move away from the equator."
   ]
  },
  {
   "cell_type": "code",
   "execution_count": 56,
   "metadata": {},
   "outputs": [
    {
     "data": {
      "image/png": "[encoded data removed]",
      "text/plain": [
       "<Figure size 432x288 with 1 Axes>"
      ]
     },
     "metadata": {
      "needs_background": "light"
     },
     "output_type": "display_data"
    },
    {
     "name": "stdout",
     "output_type": "stream",
     "text": [
      " The r-value is -0.2963806464356432\n"
     ]
    }
   ],
   "source": [
    "(slope, intercept, rvalue, pvalue, stderr) = linregress(s_lat.iloc[:,3],s_lat.iloc[:,7])\n",
    "regress_values = s_lat.iloc[:,3] * slope + intercept\n",
    "line_eq = \"y = \" + str(round(slope,2)) + \"x + \" + str(round(intercept,2))\n",
    "\n",
    "plt.scatter(s_lat.iloc[:,3],s_lat.iloc[:,7])\n",
    "plt.plot(s_lat.iloc[:,3],regress_values,\"r-\")\n",
    "plt.annotate(line_eq,(-25,30),fontsize=15,color=\"red\")\n",
    "plt.title(\"City Latitude (Southern Hemisphere) vs Wind Speed (11/28/21)\")\n",
    "plt.xlabel('City Latitude')\n",
    "plt.ylabel('Wind Speed (mph)')\n",
    "plt.savefig('output_data/s_lat_wind.png')\n",
    "plt.show()\n",
    "print(f' The r-value is {rvalue}')"
   ]
  },
  {
   "cell_type": "code",
   "execution_count": null,
   "metadata": {},
   "outputs": [],
   "source": []
  }
 ],
 "metadata": {
  "anaconda-cloud": {},
  "kernel_info": {
   "name": "python3"
  },
  "kernelspec": {
   "display_name": "Python 3",
   "language": "python",
   "name": "python3"
  },
  "language_info": {
   "codemirror_mode": {
    "name": "ipython",
    "version": 3
   },
   "file_extension": ".py",
   "mimetype": "text/x-python",
   "name": "python",
   "nbconvert_exporter": "python",
   "pygments_lexer": "ipython3",
   "version": "3.8.8"
  },
  "latex_envs": {
   "LaTeX_envs_menu_present": true,
   "autoclose": false,
   "autocomplete": true,
   "bibliofile": "biblio.bib",
   "cite_by": "apalike",
   "current_citInitial": 1,
   "eqLabelWithNumbers": true,
   "eqNumInitial": 1,
   "hotkeys": {
    "equation": "Ctrl-E",
    "itemize": "Ctrl-I"
   },
   "labels_anchors": false,
   "latex_user_defs": false,
   "report_style_numbering": false,
   "user_envs_cfg": false
  },
  "nteract": {
   "version": "0.12.3"
  },
  "widgets": {
   "application/vnd.jupyter.widget-state+json": {
    "state": {},
    "version_major": 2,
    "version_minor": 0
   }
  }
 },
 "nbformat": 4,
 "nbformat_minor": 4
}
